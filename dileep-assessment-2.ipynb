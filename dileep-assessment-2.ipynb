{
 "cells": [
  {
   "cell_type": "code",
   "execution_count": 0,
   "metadata": {
    "application/vnd.databricks.v1+cell": {
     "cellMetadata": {
      "byteLimit": 2048000,
      "rowLimit": 10000
     },
     "inputWidgets": {},
     "nuid": "2517c46f-ce1c-4de4-87f4-29803d4e8a36",
     "showTitle": false,
     "tableResultSettingsMap": {},
     "title": ""
    }
   },
   "outputs": [],
   "source": [
    "# Installing required Python packages inside the Databricks notebook environment selenium: lets you control a browser page\n",
    "#pandas: for working with tabular data\n",
    "#beautifulsoup4: for reading and navigating HTML code\n",
    "%pip install selenium pandas beautifulsoup4"
   ]
  },
  {
   "cell_type": "code",
   "execution_count": 0,
   "metadata": {
    "application/vnd.databricks.v1+cell": {
     "cellMetadata": {
      "byteLimit": 2048000,
      "rowLimit": 10000
     },
     "inputWidgets": {},
     "nuid": "55cc68b7-0505-45d9-bb36-4245b72f3398",
     "showTitle": false,
     "tableResultSettingsMap": {},
     "title": ""
    }
   },
   "outputs": [],
   "source": [
    "# Import the libraries we installed\n",
    "from selenium import webdriver                          # To open and control a web browser\n",
    "from selenium.webdriver.chrome.options import Options   # To configure the Chrome browser\n",
    "from bs4 import BeautifulSoup                           # To read HTML content\n",
    "import pandas as pd                                     # To work with tables (DataFrames)\n",
    "import time                                             # To add wait so data loads"
   ]
  },
  {
   "cell_type": "code",
   "execution_count": 0,
   "metadata": {
    "application/vnd.databricks.v1+cell": {
     "cellMetadata": {
      "byteLimit": 2048000,
      "rowLimit": 10000
     },
     "inputWidgets": {},
     "nuid": "f282235b-5731-41c3-8455-8d479da952a0",
     "showTitle": false,
     "tableResultSettingsMap": {},
     "title": ""
    }
   },
   "outputs": [],
   "source": [
    "# Setup Chrome in headless mode (runs browser in background)\n",
    "chrome_options = Options()\n",
    "chrome_options.add_argument(\"--headless\")               # Run without opening a visible window\n",
    "chrome_options.add_argument(\"--no-sandbox\")             # Chrome runs normally without trying to isolate processes.\n",
    "chrome_options.add_argument(\"--disable-dev-shm-usage\")  # Avoid memory sharing issues\n",
    "\n",
    "# Create the Chrome browser using the options\n",
    "driver = webdriver.Chrome(options=chrome_options)\n",
    "\n",
    "# Open the IBEX day-ahead market page\n",
    "url = \"https://ibex.bg/markets/dam/day-ahead-prices-and-volumes-v2-0-2/\"\n",
    "driver.get(url)  # Launches the website in the browser\n",
    "\n",
    "# Wait for JavaScript on the page to load the tables\n",
    "time.sleep(5)  # Wait 5 seconds \n",
    "\n",
    "# Get the full page HTML after it's fully loaded\n",
    "html = driver.page_source\n",
    "\n",
    "# Close the browser to clean up resources\n",
    "driver.quit()\n"
   ]
  },
  {
   "cell_type": "code",
   "execution_count": 0,
   "metadata": {
    "application/vnd.databricks.v1+cell": {
     "cellMetadata": {
      "byteLimit": 2048000,
      "rowLimit": 10000
     },
     "inputWidgets": {},
     "nuid": "70c12735-2e2c-4487-8097-b67a143848b0",
     "showTitle": false,
     "tableResultSettingsMap": {},
     "title": ""
    }
   },
   "outputs": [],
   "source": [
    "from selenium import webdriver\n",
    "from selenium.webdriver.chrome.options import Options\n",
    "import tempfile\n",
    "import time\n",
    "# Setup Chrome in headless mode (runs browser in background)\n",
    "# Step 1: Set up Chrome options\n",
    "chrome_options = Options()\n",
    "chrome_options.add_argument(\"--headless\")  #  # Run without opening a visible window\n",
    "chrome_options.add_argument(\"--no-sandbox\")  # Chrome runs normally without trying to isolate \n",
    "chrome_options.add_argument(\"--disable-dev-shm-usage\")  # Avoid memory issues\n",
    "\n",
    "# Step 2: Set unique user data directory to prevent session conflicts\n",
    "user_data_dir = tempfile.mkdtemp()\n",
    "chrome_options.add_argument(f\"--user-data-dir={user_data_dir}\")\n",
    "\n",
    "# Step 3: Launch Chrome with those options\n",
    "driver = webdriver.Chrome(options=chrome_options)\n",
    "\n",
    "\n",
    "url = \"https://ibex.bg/markets/dam/day-ahead-prices-and-volumes-v2-0-2/\"\n",
    "driver.get(url)\n",
    "\n",
    "# Step 5: Wait to let JS content load\n",
    "time.sleep(5)\n",
    "\n",
    "# Step 6: Get the full HTML page source\n",
    "html = driver.page_source\n",
    "\n",
    "# Step 7: Close the browser\n",
    "driver.quit()\n"
   ]
  },
  {
   "cell_type": "markdown",
   "metadata": {
    "application/vnd.databricks.v1+cell": {
     "cellMetadata": {},
     "inputWidgets": {},
     "nuid": "4bed152c-393c-416c-8f9c-8efc2fedb82c",
     "showTitle": false,
     "tableResultSettingsMap": {},
     "title": ""
    }
   },
   "source": [
    "Selenium didnt work, trying requests-html\n"
   ]
  },
  {
   "cell_type": "code",
   "execution_count": 0,
   "metadata": {
    "application/vnd.databricks.v1+cell": {
     "cellMetadata": {
      "byteLimit": 2048000,
      "rowLimit": 10000
     },
     "inputWidgets": {},
     "nuid": "08f8162d-d3ab-4be9-9c43-005b6c9f683b",
     "showTitle": false,
     "tableResultSettingsMap": {},
     "title": ""
    }
   },
   "outputs": [],
   "source": [
    "%pip install requests-html"
   ]
  },
  {
   "cell_type": "code",
   "execution_count": 0,
   "metadata": {
    "application/vnd.databricks.v1+cell": {
     "cellMetadata": {
      "byteLimit": 2048000,
      "rowLimit": 10000
     },
     "inputWidgets": {},
     "nuid": "616f4b50-d9e9-4465-8f33-c0585bc51b07",
     "showTitle": false,
     "tableResultSettingsMap": {},
     "title": ""
    }
   },
   "outputs": [],
   "source": [
    "%pip install lxml-html-clean"
   ]
  },
  {
   "cell_type": "code",
   "execution_count": 0,
   "metadata": {
    "application/vnd.databricks.v1+cell": {
     "cellMetadata": {
      "byteLimit": 2048000,
      "rowLimit": 10000
     },
     "inputWidgets": {},
     "nuid": "e15910ea-8a8f-4c16-8855-9e346f8671db",
     "showTitle": false,
     "tableResultSettingsMap": {},
     "title": ""
    }
   },
   "outputs": [],
   "source": [
    "from requests_html import HTMLSession\n",
    "import pandas as pd\n",
    "\n",
    "# Start a session with a headless browser\n",
    "session = HTMLSession()\n",
    "\n",
    "url = \"https://ibex.bg/markets/dam/day-ahead-prices-and-volumes-v2-0-2/\"\n",
    "\n",
    "# Load the page and wait for JavaScript to render\n",
    "response = session.get(url)\n",
    "response.html.render(timeout=30)  # Renders JavaScript like Selenium would\n",
    "\n",
    "# Extract all tables using pandas \n",
    "tables = pd.read_html(response.html.html)\n",
    "\n",
    "# Show how many tables were found\n",
    "print(f\"Found {len(tables)} tables\")\n",
    "\n",
    "# Example: Show the first table\n",
    "tables[0].head()\n"
   ]
  },
  {
   "cell_type": "code",
   "execution_count": 0,
   "metadata": {
    "application/vnd.databricks.v1+cell": {
     "cellMetadata": {
      "byteLimit": 2048000,
      "rowLimit": 10000
     },
     "inputWidgets": {},
     "nuid": "4d1af6d3-1816-498f-9576-cc37cb5b6531",
     "showTitle": false,
     "tableResultSettingsMap": {},
     "title": ""
    }
   },
   "outputs": [],
   "source": [
    "from requests_html import AsyncHTMLSession\n",
    "import asyncio\n",
    "import pandas as pd\n",
    "\n",
    "# Define async scraping function\n",
    "asession = AsyncHTMLSession()\n",
    "\n",
    "async def get_tables():\n",
    "    url = \"https://ibex.bg/markets/dam/day-ahead-prices-and-volumes-v2-0-2/\"\n",
    "    r = await asession.get(url)\n",
    "    await r.html.arender(timeout=30)\n",
    "    return pd.read_html(r.html.html)\n",
    "\n",
    "# Run the async function using asyncio\n",
    "tables = asyncio.run(get_tables())\n",
    "\n",
    "# Show number of tables found\n",
    "print(f\"Found {len(tables)} tables\")\n",
    "\n",
    "# Show sample of first table\n",
    "tables[0].head()\n"
   ]
  },
  {
   "cell_type": "code",
   "execution_count": 0,
   "metadata": {
    "application/vnd.databricks.v1+cell": {
     "cellMetadata": {
      "byteLimit": 2048000,
      "rowLimit": 10000
     },
     "inputWidgets": {},
     "nuid": "0b61ddfb-3a0d-4162-9bf1-9edfd6a61ee4",
     "showTitle": false,
     "tableResultSettingsMap": {},
     "title": ""
    }
   },
   "outputs": [],
   "source": [
    "# Step 1: Install required packages\n",
    "%pip install requests-html nest_asyncio lxml-html-clean\n",
    "\n",
    "# Step 2: Imports\n",
    "from requests_html import AsyncHTMLSession\n",
    "import nest_asyncio\n",
    "import pandas as pd\n",
    "import asyncio\n",
    "\n",
    "# Step 3: Allow nested event loops (needed for Databricks, Jupyter, etc.)\n",
    "nest_asyncio.apply()\n",
    "\n",
    "# Step 4: Define async function\n",
    "asession = AsyncHTMLSession()\n",
    "\n",
    "async def get_tables():\n",
    "    url = \"https://ibex.bg/markets/dam/day-ahead-prices-and-volumes-v2-0-2/\"\n",
    "    r = await asession.get(url)\n",
    "    await r.html.arender(timeout=30)\n",
    "    return pd.read_html(r.html.html)\n",
    "\n",
    "# Step 5: Run async function using running event loop\n",
    "tables = asyncio.get_event_loop().run_until_complete(get_tables())\n",
    "\n",
    "# Step 6: See how many tables we got\n",
    "print(f\"Found {len(tables)} tables\")\n",
    "\n",
    "# Step 7: Preview the first table\n",
    "tables[0].head()\n"
   ]
  },
  {
   "cell_type": "code",
   "execution_count": 0,
   "metadata": {
    "application/vnd.databricks.v1+cell": {
     "cellMetadata": {
      "byteLimit": 2048000,
      "rowLimit": 10000
     },
     "inputWidgets": {},
     "nuid": "7ef5d4f0-48b8-43b3-8e6a-b94d5dde6c8d",
     "showTitle": false,
     "tableResultSettingsMap": {},
     "title": ""
    }
   },
   "outputs": [],
   "source": [
    "\n",
    "# Step 2: Imports\n",
    "from requests_html import AsyncHTMLSession\n",
    "import nest_asyncio\n",
    "import pandas as pd\n",
    "import asyncio\n",
    "\n",
    "# Step 3: Allow nested event loops (needed for Databricks, Jupyter, etc.)\n",
    "nest_asyncio.apply()\n",
    "\n",
    "# Step 4: Define async function\n",
    "asession = AsyncHTMLSession()\n",
    "\n",
    "async def get_tables():\n",
    "    url = \"https://ibex.bg/markets/dam/day-ahead-prices-and-volumes-v2-0-2/\"\n",
    "    r = await asession.get(url)\n",
    "    await r.html.arender(timeout=30)\n",
    "    return pd.read_html(r.html.html)\n",
    "\n",
    "# Step 5: Run async function using running event loop\n",
    "tables = asyncio.get_event_loop().run_until_complete(get_tables())\n",
    "\n",
    "# Step 6: See how many tables we got\n",
    "print(f\"Found {len(tables)} tables\")\n",
    "\n",
    "# Step 7: Preview the first table\n",
    "tables[0].head()"
   ]
  },
  {
   "cell_type": "code",
   "execution_count": 0,
   "metadata": {
    "application/vnd.databricks.v1+cell": {
     "cellMetadata": {
      "byteLimit": 2048000,
      "rowLimit": 10000
     },
     "inputWidgets": {},
     "nuid": "2350ffc4-94ca-4288-a7c7-98caf0c054db",
     "showTitle": false,
     "tableResultSettingsMap": {},
     "title": ""
    }
   },
   "outputs": [],
   "source": [
    "\n",
    "%pip install beautifulsoup4 lxml pandas requests\n",
    "\n",
    "# Step 2: Import libraries\n",
    "import requests\n",
    "from bs4 import BeautifulSoup\n",
    "import pandas as pd\n",
    "\n",
    "# Step 3: Fetch the HTML content\n",
    "url = \"https://ibex.bg/markets/dam/day-ahead-prices-and-volumes-v2-0-2/\"\n",
    "headers = {\n",
    "    \"User-Agent\": \"Mozilla/5.0\"\n",
    "}\n",
    "response = requests.get(url, headers=headers)\n",
    "\n",
    "# Step 4: Parse HTML using BeautifulSoup\n",
    "soup = BeautifulSoup(response.text, \"lxml\")\n",
    "\n",
    "# Step 5: Try to extract tables using pandas\n",
    "tables = pd.read_html(response.text)\n",
    "\n",
    "# Check how many tables we got\n",
    "print(f\"Found {len(tables)} tables\")\n",
    "display(tables[0].head())\n"
   ]
  },
  {
   "cell_type": "code",
   "execution_count": 0,
   "metadata": {
    "application/vnd.databricks.v1+cell": {
     "cellMetadata": {
      "byteLimit": 2048000,
      "rowLimit": 10000
     },
     "inputWidgets": {},
     "nuid": "02c0237e-11b4-4c59-b126-9e39f93d09e7",
     "showTitle": false,
     "tableResultSettingsMap": {},
     "title": ""
    }
   },
   "outputs": [
    {
     "output_type": "stream",
     "name": "stdout",
     "output_type": "stream",
     "text": [
      "Python interpreter will be restarted.\nRequirement already satisfied: requests in /databricks/python3/lib/python3.9/site-packages (2.27.1)\nRequirement already satisfied: beautifulsoup4 in /databricks/python3/lib/python3.9/site-packages (4.11.1)\nRequirement already satisfied: pandas in /databricks/python3/lib/python3.9/site-packages (1.4.2)\nRequirement already satisfied: lxml in /local_disk0/.ephemeral_nfs/envs/pythonEnv-60b8b3dd-3819-4f3d-867e-a8e2047b3b23/lib/python3.9/site-packages (5.4.0)\nRequirement already satisfied: charset-normalizer~=2.0.0 in /databricks/python3/lib/python3.9/site-packages (from requests) (2.0.4)\nRequirement already satisfied: idna<4,>=2.5 in /databricks/python3/lib/python3.9/site-packages (from requests) (3.3)\nRequirement already satisfied: certifi>=2017.4.17 in /databricks/python3/lib/python3.9/site-packages (from requests) (2021.10.8)\nRequirement already satisfied: urllib3<1.27,>=1.21.1 in /databricks/python3/lib/python3.9/site-packages (from requests) (1.26.9)\nRequirement already satisfied: soupsieve>1.2 in /databricks/python3/lib/python3.9/site-packages (from beautifulsoup4) (2.3.1)\nRequirement already satisfied: python-dateutil>=2.8.1 in /databricks/python3/lib/python3.9/site-packages (from pandas) (2.8.2)\nRequirement already satisfied: numpy>=1.18.5 in /databricks/python3/lib/python3.9/site-packages (from pandas) (1.21.5)\nRequirement already satisfied: pytz>=2020.1 in /databricks/python3/lib/python3.9/site-packages (from pandas) (2021.3)\nRequirement already satisfied: six>=1.5 in /databricks/python3/lib/python3.9/site-packages (from python-dateutil>=2.8.1->pandas) (1.16.0)\nPython interpreter will be restarted.\n"
     ]
    },
    {
     "output_type": "display_data",
     "data": {
      "application/vnd.databricks.v1+bamboolib_hint": "{\"pd.DataFrames\": [], \"version\": \"0.0.1\"}",
      "text/plain": []
     },
     "metadata": {},
     "output_type": "display_data"
    },
    {
     "output_type": "stream",
     "name": "stdout",
     "output_type": "stream",
     "text": [
      "Total tables found: 4\n"
     ]
    },
    {
     "output_type": "display_data",
     "data": {
      "text/html": [
       "<style scoped>\n",
       "  .table-result-container {\n",
       "    max-height: 300px;\n",
       "    overflow: auto;\n",
       "  }\n",
       "  table, th, td {\n",
       "    border: 1px solid black;\n",
       "    border-collapse: collapse;\n",
       "  }\n",
       "  th, td {\n",
       "    padding: 5px;\n",
       "  }\n",
       "  th {\n",
       "    text-align: left;\n",
       "  }\n",
       "</style><div class='table-result-container'><table class='table-result'><thead style='background-color: white'><tr><th>Hour</th><th>Price_EUR_per_MWh</th><th>Volume_MWh</th></tr></thead><tbody><tr><td>0 - 1</td><td>EUR/MWh</td><td>MWh</td></tr><tr><td>1 - 2</td><td>EUR/MWh</td><td>MWh</td></tr><tr><td>2 - 3</td><td>EUR/MWh</td><td>MWh</td></tr><tr><td>2 - 3A</td><td>EUR/MWh</td><td>MWh</td></tr><tr><td>3 - 4</td><td>EUR/MWh</td><td>MWh</td></tr></tbody></table></div>"
      ]
     },
     "metadata": {
      "application/vnd.databricks.v1+output": {
       "addedWidgets": {},
       "aggData": [],
       "aggError": "",
       "aggOverflow": false,
       "aggSchema": [],
       "aggSeriesLimitReached": false,
       "aggType": "",
       "arguments": {},
       "columnCustomDisplayInfos": {},
       "data": [
        [
         "0 - 1",
         "EUR/MWh",
         "MWh"
        ],
        [
         "1 - 2",
         "EUR/MWh",
         "MWh"
        ],
        [
         "2 - 3",
         "EUR/MWh",
         "MWh"
        ],
        [
         "2 - 3A",
         "EUR/MWh",
         "MWh"
        ],
        [
         "3 - 4",
         "EUR/MWh",
         "MWh"
        ]
       ],
       "datasetInfos": [],
       "dbfsResultPath": null,
       "isJsonSchema": true,
       "metadata": {},
       "overflow": false,
       "plotOptions": {
        "customPlotOptions": {},
        "displayType": "table",
        "pivotAggregation": null,
        "pivotColumns": null,
        "xColumns": null,
        "yColumns": null
       },
       "removedWidgets": [],
       "schema": [
        {
         "metadata": "{}",
         "name": "Hour",
         "type": "\"string\""
        },
        {
         "metadata": "{}",
         "name": "Price_EUR_per_MWh",
         "type": "\"string\""
        },
        {
         "metadata": "{}",
         "name": "Volume_MWh",
         "type": "\"string\""
        }
       ],
       "type": "table"
      }
     },
     "output_type": "display_data"
    },
    {
     "output_type": "display_data",
     "data": {
      "text/html": [
       "<style scoped>\n",
       "  .table-result-container {\n",
       "    max-height: 300px;\n",
       "    overflow: auto;\n",
       "  }\n",
       "  table, th, td {\n",
       "    border: 1px solid black;\n",
       "    border-collapse: collapse;\n",
       "  }\n",
       "  th, td {\n",
       "    padding: 5px;\n",
       "  }\n",
       "  th {\n",
       "    text-align: left;\n",
       "  }\n",
       "</style><div class='table-result-container'><table class='table-result'><thead style='background-color: white'><tr><th>date</th><th>time</th><th>date_display</th><th>price_eur</th><th>price</th><th>volume</th></tr></thead><tbody><tr><td>2025-06-06</td><td>00:00:00</td><td>06.06.2025</td><td>103.57</td><td>202.57</td><td>2571.2</td></tr><tr><td>2025-06-07</td><td>00:00:00</td><td>07.06.2025</td><td>103.83</td><td>203.07</td><td>2284.9</td></tr><tr><td>2025-06-08</td><td>00:00:00</td><td>08.06.2025</td><td>96.01</td><td>187.78</td><td>2217.9</td></tr><tr><td>2025-06-09</td><td>00:00:00</td><td>09.06.2025</td><td>99.12</td><td>193.86</td><td>2201.8</td></tr><tr><td>2025-06-10</td><td>00:00:00</td><td>10.06.2025</td><td>89.91</td><td>175.85</td><td>2730.2</td></tr></tbody></table></div>"
      ]
     },
     "metadata": {
      "application/vnd.databricks.v1+output": {
       "addedWidgets": {},
       "aggData": [],
       "aggError": "",
       "aggOverflow": false,
       "aggSchema": [],
       "aggSeriesLimitReached": false,
       "aggType": "",
       "arguments": {},
       "columnCustomDisplayInfos": {},
       "data": [
        [
         "2025-06-06",
         "00:00:00",
         "06.06.2025",
         103.57,
         202.57,
         2571.2
        ],
        [
         "2025-06-07",
         "00:00:00",
         "07.06.2025",
         103.83,
         203.07,
         2284.9
        ],
        [
         "2025-06-08",
         "00:00:00",
         "08.06.2025",
         96.01,
         187.78,
         2217.9
        ],
        [
         "2025-06-09",
         "00:00:00",
         "09.06.2025",
         99.12,
         193.86,
         2201.8
        ],
        [
         "2025-06-10",
         "00:00:00",
         "10.06.2025",
         89.91,
         175.85,
         2730.2
        ]
       ],
       "datasetInfos": [],
       "dbfsResultPath": null,
       "isJsonSchema": true,
       "metadata": {},
       "overflow": false,
       "plotOptions": {
        "customPlotOptions": {},
        "displayType": "table",
        "pivotAggregation": null,
        "pivotColumns": null,
        "xColumns": null,
        "yColumns": null
       },
       "removedWidgets": [],
       "schema": [
        {
         "metadata": "{}",
         "name": "date",
         "type": "\"string\""
        },
        {
         "metadata": "{}",
         "name": "time",
         "type": "\"string\""
        },
        {
         "metadata": "{}",
         "name": "date_display",
         "type": "\"string\""
        },
        {
         "metadata": "{}",
         "name": "price_eur",
         "type": "\"double\""
        },
        {
         "metadata": "{}",
         "name": "price",
         "type": "\"double\""
        },
        {
         "metadata": "{}",
         "name": "volume",
         "type": "\"double\""
        }
       ],
       "type": "table"
      }
     },
     "output_type": "display_data"
    },
    {
     "output_type": "display_data",
     "data": {
      "text/html": [
       "<style scoped>\n",
       "  .table-result-container {\n",
       "    max-height: 300px;\n",
       "    overflow: auto;\n",
       "  }\n",
       "  table, th, td {\n",
       "    border: 1px solid black;\n",
       "    border-collapse: collapse;\n",
       "  }\n",
       "  th, td {\n",
       "    padding: 5px;\n",
       "  }\n",
       "  th {\n",
       "    text-align: left;\n",
       "  }\n",
       "</style><div class='table-result-container'><table class='table-result'><thead style='background-color: white'><tr><th>Unnamed__0</th><th>Unnamed__1</th><th>Unnamed__2</th><th>Unnamed__3</th><th>Unnamed__4</th><th>Unnamed__5</th><th>Unnamed__6</th><th>Unnamed__7</th></tr></thead><tbody><tr><td>Base (01-24)</td><td>null</td><td>null</td><td>null</td><td>null</td><td>null</td><td>null</td><td>null</td></tr><tr><td>Peak (9-20)</td><td>null</td><td>null</td><td>null</td><td>null</td><td>null</td><td>null</td><td>null</td></tr><tr><td>Off-Peak (1-8 & 21-24)</td><td>null</td><td>null</td><td>null</td><td>null</td><td>null</td><td>null</td><td>null</td></tr></tbody></table></div>"
      ]
     },
     "metadata": {
      "application/vnd.databricks.v1+output": {
       "addedWidgets": {},
       "aggData": [],
       "aggError": "",
       "aggOverflow": false,
       "aggSchema": [],
       "aggSeriesLimitReached": false,
       "aggType": "",
       "arguments": {},
       "columnCustomDisplayInfos": {},
       "data": [
        [
         "Base (01-24)",
         null,
         null,
         null,
         null,
         null,
         null,
         null
        ],
        [
         "Peak (9-20)",
         null,
         null,
         null,
         null,
         null,
         null,
         null
        ],
        [
         "Off-Peak (1-8 & 21-24)",
         null,
         null,
         null,
         null,
         null,
         null,
         null
        ]
       ],
       "datasetInfos": [],
       "dbfsResultPath": null,
       "isJsonSchema": true,
       "metadata": {},
       "overflow": false,
       "plotOptions": {
        "customPlotOptions": {},
        "displayType": "table",
        "pivotAggregation": null,
        "pivotColumns": null,
        "xColumns": null,
        "yColumns": null
       },
       "removedWidgets": [],
       "schema": [
        {
         "metadata": "{}",
         "name": "Unnamed__0",
         "type": "\"string\""
        },
        {
         "metadata": "{}",
         "name": "Unnamed__1",
         "type": "\"double\""
        },
        {
         "metadata": "{}",
         "name": "Unnamed__2",
         "type": "\"double\""
        },
        {
         "metadata": "{}",
         "name": "Unnamed__3",
         "type": "\"double\""
        },
        {
         "metadata": "{}",
         "name": "Unnamed__4",
         "type": "\"double\""
        },
        {
         "metadata": "{}",
         "name": "Unnamed__5",
         "type": "\"double\""
        },
        {
         "metadata": "{}",
         "name": "Unnamed__6",
         "type": "\"double\""
        },
        {
         "metadata": "{}",
         "name": "Unnamed__7",
         "type": "\"double\""
        }
       ],
       "type": "table"
      }
     },
     "output_type": "display_data"
    },
    {
     "output_type": "stream",
     "name": "stdout",
     "output_type": "stream",
     "text": [
      " All tables extracted and saved to Databricks successfully.\n"
     ]
    }
   ],
   "source": [
    "# STEP 1: Install required libraries\n",
    "%pip install requests beautifulsoup4 pandas lxml\n",
    "\n",
    "# STEP 2: Import libraries\n",
    "import pandas as pd\n",
    "import requests\n",
    "import re\n",
    "\n",
    "# STEP 3: Download the HTML page\n",
    "url = \"https://ibex.bg/markets/dam/day-ahead-prices-and-volumes-v2-0-2/\"\n",
    "headers = {\"User-Agent\": \"Mozilla/5.0\"}  # Pretend like a real browser\n",
    "response = requests.get(url, headers=headers)\n",
    "html = response.content\n",
    "\n",
    "# STEP 4: Extract all tables from the page\n",
    "tables = pd.read_html(html)\n",
    "\n",
    "# STEP 5: Check how many tables were found\n",
    "print(f\"Total tables found: {len(tables)}\")\n",
    "\n",
    "# STEP 6: Extract the required tables\n",
    "table_peak_offpeak = tables[1]\n",
    "table_hourly_raw = tables[2]\n",
    "table_daily_summary = tables[3]\n",
    "\n",
    "# STEP 7: Clean the hourly table (alternate rows = prices and volumes)\n",
    "hour_labels = table_hourly_raw.iloc[::2, 0].values  # every 2nd row starting from 0\n",
    "eur_prices = table_hourly_raw.iloc[::2, 1].values\n",
    "volumes = table_hourly_raw.iloc[1::2, 1].values     # every 2nd row starting from 1\n",
    "\n",
    "table_hourly = pd.DataFrame({\n",
    "    \"Hour\": hour_labels,\n",
    "    \"Price_EUR_per_MWh\": eur_prices,\n",
    "    \"Volume_MWh\": volumes\n",
    "})\n",
    "\n",
    "# STEP 8: Clean column names for Spark compatibility\n",
    "def clean_column_names(df):\n",
    "    df.columns = [\n",
    "        re.sub(r\"[^\\w]\", \"_\", col).strip(\"_\")  # Keep only letters, numbers, underscores\n",
    "        for col in df.columns\n",
    "    ]\n",
    "    return df\n",
    "\n",
    "table_hourly = clean_column_names(table_hourly)\n",
    "table_daily_summary = clean_column_names(table_daily_summary)\n",
    "table_peak_offpeak = clean_column_names(table_peak_offpeak)\n",
    "\n",
    "# (Optional) Preview Data - useful during development/debugging\n",
    "display(table_hourly.head())\n",
    "display(table_daily_summary.head())\n",
    "display(table_peak_offpeak.head())\n",
    "\n",
    "# STEP 9: Convert to Spark DataFrames\n",
    "spark_df1 = spark.createDataFrame(table_hourly)\n",
    "spark_df2 = spark.createDataFrame(table_daily_summary)\n",
    "spark_df3 = spark.createDataFrame(table_peak_offpeak)\n",
    "\n",
    "# STEP 10: Save each Spark DataFrame as a separate Databricks table\n",
    "spark_df1.write.mode(\"overwrite\").saveAsTable(\"ibex_hourly_prices_volumes\")\n",
    "spark_df2.write.mode(\"overwrite\").saveAsTable(\"ibex_daily_summary\")\n",
    "spark_df3.write.mode(\"overwrite\").saveAsTable(\"ibex_peak_offpeak_summary\")\n",
    "\n",
    "print(\" All tables extracted and saved to Databricks successfully.\")\n"
   ]
  },
  {
   "cell_type": "code",
   "execution_count": 0,
   "metadata": {
    "application/vnd.databricks.v1+cell": {
     "cellMetadata": {
      "byteLimit": 2048000,
      "rowLimit": 10000
     },
     "inputWidgets": {},
     "nuid": "8be44c3f-6e12-40c3-a0a1-5c7cc14a13ea",
     "showTitle": false,
     "tableResultSettingsMap": {},
     "title": ""
    }
   },
   "outputs": [
    {
     "output_type": "stream",
     "name": "stdout",
     "output_type": "stream",
     "text": [
      "Python interpreter will be restarted.\nCollecting requests==2.32.3\n  Downloading requests-2.32.3-py3-none-any.whl (64 kB)\nCollecting beautifulsoup4==4.12.3\n  Downloading beautifulsoup4-4.12.3-py3-none-any.whl (147 kB)\nRequirement already satisfied: urllib3<3,>=1.21.1 in /databricks/python3/lib/python3.9/site-packages (from requests==2.32.3) (1.26.9)\nRequirement already satisfied: certifi>=2017.4.17 in /databricks/python3/lib/python3.9/site-packages (from requests==2.32.3) (2021.10.8)\nRequirement already satisfied: idna<4,>=2.5 in /databricks/python3/lib/python3.9/site-packages (from requests==2.32.3) (3.3)\nRequirement already satisfied: charset-normalizer<4,>=2 in /databricks/python3/lib/python3.9/site-packages (from requests==2.32.3) (2.0.4)\nRequirement already satisfied: soupsieve>1.2 in /databricks/python3/lib/python3.9/site-packages (from beautifulsoup4==4.12.3) (2.3.1)\nInstalling collected packages: requests, beautifulsoup4\n  Attempting uninstall: requests\n    Found existing installation: requests 2.27.1\n    Not uninstalling requests at /databricks/python3/lib/python3.9/site-packages, outside environment /local_disk0/.ephemeral_nfs/envs/pythonEnv-60b8b3dd-3819-4f3d-867e-a8e2047b3b23\n    Can't uninstall 'requests'. No files were found to uninstall.\n  Attempting uninstall: beautifulsoup4\n    Found existing installation: beautifulsoup4 4.11.1\n    Not uninstalling beautifulsoup4 at /databricks/python3/lib/python3.9/site-packages, outside environment /local_disk0/.ephemeral_nfs/envs/pythonEnv-60b8b3dd-3819-4f3d-867e-a8e2047b3b23\n    Can't uninstall 'beautifulsoup4'. No files were found to uninstall.\nSuccessfully installed beautifulsoup4-4.12.3 requests-2.32.3\nPython interpreter will be restarted.\nPython interpreter will be restarted.\nCollecting selenium==4.18.1\n  Downloading selenium-4.18.1-py3-none-any.whl (10.0 MB)\nCollecting webdriver-manager==4.0.2\n  Downloading webdriver_manager-4.0.2-py2.py3-none-any.whl (27 kB)\nCollecting typing_extensions==4.12.2\n  Downloading typing_extensions-4.12.2-py3-none-any.whl (37 kB)\nCollecting trio-websocket~=0.9\n  Downloading trio_websocket-0.12.2-py3-none-any.whl (21 kB)\nRequirement already satisfied: urllib3[socks]<3,>=1.26 in /databricks/python3/lib/python3.9/site-packages (from selenium==4.18.1) (1.26.9)\nRequirement already satisfied: certifi>=2021.10.8 in /databricks/python3/lib/python3.9/site-packages (from selenium==4.18.1) (2021.10.8)\nCollecting trio~=0.17\n  Downloading trio-0.30.0-py3-none-any.whl (499 kB)\nRequirement already satisfied: packaging in /databricks/python3/lib/python3.9/site-packages (from webdriver-manager==4.0.2) (21.3)\nRequirement already satisfied: requests in /local_disk0/.ephemeral_nfs/envs/pythonEnv-60b8b3dd-3819-4f3d-867e-a8e2047b3b23/lib/python3.9/site-packages (from webdriver-manager==4.0.2) (2.32.3)\nCollecting python-dotenv\n  Downloading python_dotenv-1.1.0-py3-none-any.whl (20 kB)\nCollecting attrs>=23.2.0\n  Downloading attrs-25.3.0-py3-none-any.whl (63 kB)\nCollecting exceptiongroup\n  Downloading exceptiongroup-1.3.0-py3-none-any.whl (16 kB)\nRequirement already satisfied: idna in /databricks/python3/lib/python3.9/site-packages (from trio~=0.17->selenium==4.18.1) (3.3)\nCollecting sniffio>=1.3.0\n  Downloading sniffio-1.3.1-py3-none-any.whl (10 kB)\nCollecting outcome\n  Downloading outcome-1.3.0.post0-py2.py3-none-any.whl (10 kB)\nCollecting sortedcontainers\n  Downloading sortedcontainers-2.4.0-py2.py3-none-any.whl (29 kB)\nCollecting wsproto>=0.14\n  Downloading wsproto-1.2.0-py3-none-any.whl (24 kB)\nCollecting PySocks!=1.5.7,<2.0,>=1.5.6\n  Downloading PySocks-1.7.1-py3-none-any.whl (16 kB)\nCollecting h11<1,>=0.9.0\n  Downloading h11-0.16.0-py3-none-any.whl (37 kB)\nRequirement already satisfied: pyparsing!=3.0.5,>=2.0.2 in /databricks/python3/lib/python3.9/site-packages (from packaging->webdriver-manager==4.0.2) (3.0.4)\nRequirement already satisfied: charset-normalizer<4,>=2 in /databricks/python3/lib/python3.9/site-packages (from requests->webdriver-manager==4.0.2) (2.0.4)\nInstalling collected packages: typing-extensions, attrs, sortedcontainers, sniffio, outcome, h11, exceptiongroup, wsproto, trio, PySocks, trio-websocket, python-dotenv, webdriver-manager, selenium\n  Attempting uninstall: typing-extensions\n    Found existing installation: typing-extensions 4.1.1\n    Not uninstalling typing-extensions at /databricks/python3/lib/python3.9/site-packages, outside environment /local_disk0/.ephemeral_nfs/envs/pythonEnv-60b8b3dd-3819-4f3d-867e-a8e2047b3b23\n    Can't uninstall 'typing-extensions'. No files were found to uninstall.\n  Attempting uninstall: attrs\n    Found existing installation: attrs 21.4.0\n    Not uninstalling attrs at /databricks/python3/lib/python3.9/site-packages, outside environment /local_disk0/.ephemeral_nfs/envs/pythonEnv-60b8b3dd-3819-4f3d-867e-a8e2047b3b23\n    Can't uninstall 'attrs'. No files were found to uninstall.\nSuccessfully installed PySocks-1.7.1 attrs-25.3.0 exceptiongroup-1.3.0 h11-0.16.0 outcome-1.3.0.post0 python-dotenv-1.1.0 selenium-4.18.1 sniffio-1.3.1 sortedcontainers-2.4.0 trio-0.30.0 trio-websocket-0.12.2 typing-extensions-4.12.2 webdriver-manager-4.0.2 wsproto-1.2.0\nPython interpreter will be restarted.\n"
     ]
    }
   ],
   "source": [
    "%pip install requests==2.32.3 beautifulsoup4==4.12.3\n",
    " \n",
    "\n",
    "%pip install selenium==4.18.1 webdriver-manager==4.0.2 typing_extensions==4.12.2\n",
    " "
   ]
  },
  {
   "cell_type": "code",
   "execution_count": 0,
   "metadata": {
    "application/vnd.databricks.v1+cell": {
     "cellMetadata": {
      "byteLimit": 2048000,
      "rowLimit": 10000
     },
     "inputWidgets": {},
     "nuid": "6f03a0fd-91cf-4b9a-a2e9-6754f7247785",
     "showTitle": false,
     "tableResultSettingsMap": {},
     "title": ""
    }
   },
   "outputs": [
    {
     "output_type": "stream",
     "name": "stdout",
     "output_type": "stream",
     "text": [
      "Hit:1 https://repos.azul.com/zulu/deb stable InRelease\nGet:2 http://security.ubuntu.com/ubuntu focal-security InRelease [128 kB]\nHit:3 http://archive.ubuntu.com/ubuntu focal InRelease\nGet:4 http://archive.ubuntu.com/ubuntu focal-updates InRelease [128 kB]\nGet:5 http://security.ubuntu.com/ubuntu focal-security/universe amd64 Packages [1,308 kB]\nGet:6 http://archive.ubuntu.com/ubuntu focal-backports InRelease [128 kB]\nGet:7 http://security.ubuntu.com/ubuntu focal-security/main amd64 Packages [4,431 kB]\nGet:8 http://archive.ubuntu.com/ubuntu focal-updates/restricted amd64 Packages [4,998 kB]\nGet:9 http://security.ubuntu.com/ubuntu focal-security/restricted amd64 Packages [4,801 kB]\nGet:10 http://archive.ubuntu.com/ubuntu focal-updates/main amd64 Packages [4,919 kB]\nGet:11 http://archive.ubuntu.com/ubuntu focal-updates/universe amd64 Packages [1,599 kB]\nFetched 22.4 MB in 3s (7,699 kB/s)\nReading package lists...\nReading package lists...\nBuilding dependency tree...\nReading state information...\nunzip is already the newest version (6.0-25ubuntu1.2).\nwget is already the newest version (1.20.3-1ubuntu2.1).\n0 upgraded, 0 newly installed, 0 to remove and 54 not upgraded.\n--2025-06-11 14:26:47--  https://dl.google.com/linux/direct/google-chrome-stable_current_amd64.deb\nResolving dl.google.com (dl.google.com)... 108.177.98.190, 108.177.98.136, 108.177.98.91, ...\nConnecting to dl.google.com (dl.google.com)|108.177.98.190|:443... connected.\nHTTP request sent, awaiting response... 200 OK\nLength: 117322064 (112M) [application/x-debian-package]\nSaving to: ‘google-chrome-stable_current_amd64.deb’\n\n     0K .......... .......... .......... .......... ..........  0% 2.02M 55s\n    50K .......... .......... .......... .......... ..........  0% 2.72M 48s\n   100K .......... .......... .......... .......... ..........  0% 6.20M 38s\n   150K .......... .......... .......... .......... ..........  0% 3.74M 36s\n   200K .......... .......... .......... .......... ..........  0% 11.3M 31s\n   250K .......... .......... .......... .......... ..........  0% 8.53M 28s\n   300K .......... .......... .......... .......... ..........  0% 8.43M 26s\n   350K .......... .......... .......... .......... ..........  0% 12.1M 24s\n   400K .......... .......... .......... .......... ..........  0% 18.7M 22s\n   450K .......... .......... .......... .......... ..........  0% 17.7M 20s\n   500K .......... .......... .......... .......... ..........  0% 20.7M 19s\n   550K .......... .......... .......... .......... ..........  0% 22.6M 18s\n   600K .......... .......... .......... .......... ..........  0% 26.6M 17s\n   650K .......... .......... .......... .......... ..........  0% 27.5M 16s\n   700K .......... .......... .......... .......... ..........  0% 31.0M 15s\n   750K .......... .......... .......... .......... ..........  0% 20.5M 14s\n   800K .......... .......... .......... .......... ..........  0% 40.8M 14s\n   850K .......... .......... .......... .......... ..........  0% 9.90M 13s\n   900K .......... .......... .......... .......... ..........  0% 98.0M 13s\n   950K .......... .......... .......... .......... ..........  0% 51.8M 12s\n  1000K .......... .......... .......... .......... ..........  0% 21.7M 12s\n  1050K .......... .......... .......... .......... ..........  0%  122M 11s\n  1100K .......... .......... .......... .......... ..........  1%  133M 11s\n  1150K .......... .......... .......... .......... ..........  1% 44.1M 11s\n  1200K .......... .......... .......... .......... ..........  1% 23.9M 10s\n  1250K .......... .......... .......... .......... ..........  1%  116M 10s\n  1300K .......... .......... .......... .......... ..........  1%  119M 10s\n  1350K .......... .......... .......... .......... ..........  1% 36.0M 9s\n  1400K .......... .......... .......... .......... ..........  1%  125M 9s\n  1450K .......... .......... .......... .......... ..........  1% 28.8M 9s\n  1500K .......... .......... .......... .......... ..........  1% 19.5M 9s\n  1550K .......... .......... .......... .......... ..........  1% 47.7M 9s\n  1600K .......... .......... .......... .......... ..........  1% 51.3M 8s\n  1650K .......... .......... .......... .......... ..........  1%  113M 8s\n  1700K .......... .......... .......... .......... ..........  1% 10.3M 8s\n  1750K .......... .......... .......... .......... ..........  1% 28.6M 8s\n  1800K .......... .......... .......... .......... ..........  1% 11.3M 8s\n  1850K .......... .......... .......... .......... ..........  1% 25.3M 8s\n  1900K .......... .......... .......... .......... ..........  1% 24.9M 8s\n  1950K .......... .......... .......... .......... ..........  1% 23.8M 8s\n  2000K .......... .......... .......... .......... ..........  1% 25.2M 8s\n  2050K .......... .......... .......... .......... ..........  1%  377M 8s\n  2100K .......... .......... .......... .......... ..........  1%  277M 7s\n  2150K .......... .......... .......... .......... ..........  1% 22.2M 7s\n  2200K .......... .......... .......... .......... ..........  1%  263M 7s\n  2250K .......... .......... .......... .......... ..........  2%  216M 7s\n  2300K .......... .......... .......... .......... ..........  2%  270M 7s\n  2350K .......... .......... .......... .......... ..........  2%  221M 7s\n  2400K .......... .......... .......... .......... ..........  2% 89.9M 7s\n  2450K .......... .......... .......... .......... ..........  2%  398M 7s\n  2500K .......... .......... .......... .......... ..........  2% 16.3M 7s\n  2550K .......... .......... .......... .......... ..........  2% 44.9M 6s\n  2600K .......... .......... .......... .......... ..........  2%  375M 6s\n  2650K .......... .......... .......... .......... ..........  2%  298M 6s\n  2700K .......... .......... .......... .......... ..........  2%  363M 6s\n  2750K .......... .......... .......... .......... ..........  2%  308M 6s\n  2800K .......... .......... .......... .......... ..........  2%  396M 6s\n  2850K .......... .......... .......... .......... ..........  2%  308M 6s\n  2900K .......... .......... .......... .......... ..........  2%  402M 6s\n  2950K .......... .......... .......... .......... ..........  2%  362M 6s\n  3000K .......... .......... .......... .......... ..........  2%  376M 6s\n  3050K .......... .......... .......... .......... ..........  2% 93.2M 5s\n  3100K .......... .......... .......... .......... ..........  2%  384M 5s\n  3150K .......... .......... .......... .......... ..........  2%  338M 5s\n  3200K .......... .......... .......... .......... ..........  2%  355M 5s\n  3250K .......... .......... .......... .......... ..........  2%  299M 5s\n  3300K .......... .......... .......... .......... ..........  2%  394M 5s\n  3350K .......... .......... .......... .......... ..........  2%  308M 5s\n  3400K .......... .......... .......... .......... ..........  3%  311M 5s\n  3450K .......... .......... .......... .......... ..........  3% 36.1M 5s\n  3500K .......... .......... .......... .......... ..........  3%  267M 5s\n  3550K .......... .......... .......... .......... ..........  3%  220M 5s\n  3600K .......... .......... .......... .......... ..........  3% 28.4M 5s\n  3650K .......... .......... .......... .......... ..........  3%  384M 5s\n  3700K .......... .......... .......... .......... ..........  3%  399M 5s\n  3750K .......... .......... .......... .......... ..........  3%  281M 5s\n  3800K .......... .......... .......... .......... ..........  3%  326M 5s\n  3850K .......... .......... .......... .......... ..........  3%  368M 4s\n  3900K .......... .......... .......... .......... ..........  3%  308M 4s\n  3950K .......... .......... .......... .......... ..........  3%  199M 4s\n  4000K .......... .......... .......... .......... ..........  3% 42.3M 4s\n  4050K .......... .......... .......... .......... ..........  3%  232M 4s\n  4100K .......... .......... .......... .......... ..........  3%  378M 4s\n  4150K .......... .......... .......... .......... ..........  3%  360M 4s\n  4200K .......... .......... .......... .......... ..........  3%  272M 4s\n  4250K .......... .......... .......... .......... ..........  3%  284M 4s\n  4300K .......... .......... .......... .......... ..........  3%  272M 4s\n  4350K .......... .......... .......... .......... ..........  3%  227M 4s\n  4400K .......... .......... .......... .......... ..........  3%  256M 4s\n  4450K .......... .......... .......... .......... ..........  3%  259M 4s\n  4500K .......... .......... .......... .......... ..........  3%  254M 4s\n  4550K .......... .......... .......... .......... ..........  4%  255M 4s\n  4600K .......... .......... .......... .......... ..........  4%  278M 4s\n  4650K .......... .......... .......... .......... ..........  4%  224M 4s\n  4700K .......... .......... .......... .......... ..........  4% 48.7M 4s\n  4750K .......... .......... .......... .......... ..........  4%  222M 4s\n  4800K .......... .......... .......... .......... ..........  4% 84.6M 4s\n  4850K .......... .......... .......... .......... ..........  4%  393M 4s\n  4900K .......... .......... .......... .......... ..........  4%  412M 4s\n  4950K .......... .......... .......... .......... ..........  4%  294M 4s\n  5000K .......... .......... .......... .......... ..........  4%  281M 4s\n  5050K .......... .......... .......... .......... ..........  4% 40.9M 4s\n  5100K .......... .......... .......... .......... ..........  4%  246M 3s\n  5150K .......... .......... .......... .......... ..........  4%  274M 3s\n  5200K .......... .......... .......... .......... ..........  4%  387M 3s\n  5250K .......... .......... .......... .......... ..........  4%  352M 3s\n  5300K .......... .......... .......... .......... ..........  4%  270M 3s\n  5350K .......... .......... .......... .......... ..........  4%  239M 3s\n  5400K .......... .......... .......... .......... ..........  4%  260M 3s\n  5450K .......... .......... .......... .......... ..........  4%  250M 3s\n  5500K .......... .......... .......... .......... ..........  4%  258M 3s\n  5550K .......... .......... .......... .......... ..........  4%  216M 3s\n  5600K .......... .......... .......... .......... ..........  4% 97.6M 3s\n  5650K .......... .......... .......... .......... ..........  4%  263M 3s\n  5700K .......... .......... .......... .......... ..........  5% 70.7M 3s\n  5750K .......... .......... .......... .......... ..........  5% 90.4M 3s\n  5800K .......... .......... .......... .......... ..........  5% 83.6M 3s\n  5850K .......... .......... .......... .......... ..........  5%  397M 3s\n  5900K .......... .......... .......... .......... ..........  5%  331M 3s\n  5950K .......... .......... .......... .......... ..........  5%  236M 3s\n  6000K .......... .......... .......... .......... ..........  5%  277M 3s\n  6050K .......... .......... .......... .......... ..........  5%  235M 3s\n  6100K .......... .......... .......... .......... ..........  5%  268M 3s\n  6150K .......... .......... .......... .......... ..........  5%  237M 3s\n  6200K .......... .......... .......... .......... ..........  5%  280M 3s\n  6250K .......... .......... .......... .......... ..........  5%  287M 3s\n  6300K .......... .......... .......... .......... ..........  5%  277M 3s\n  6350K .......... .......... .......... .......... ..........  5%  248M 3s\n  6400K .......... .......... .......... .......... ..........  5%  392M 3s\n  6450K .......... .......... .......... .......... ..........  5%  405M 3s\n  6500K .......... .......... .......... .......... ..........  5%  363M 3s\n  6550K .......... .......... .......... .......... ..........  5%  257M 3s\n  6600K .......... .......... .......... .......... ..........  5%  275M 3s\n  6650K .......... .......... .......... .......... ..........  5% 24.6M 3s\n  6700K .......... .......... .......... .......... ..........  5%  270M 3s\n  6750K .......... .......... .......... .......... ..........  5% 46.8M 3s\n  6800K .......... .......... .......... .......... ..........  5%  371M 3s\n  6850K .......... .......... .......... .......... ..........  6%  402M 3s\n  6900K .......... .......... .......... .......... ..........  6%  402M 3s\n  6950K .......... .......... .......... .......... ..........  6%  250M 3s\n  7000K .......... .......... .......... .......... ..........  6%  242M 3s\n  7050K .......... .......... .......... .......... ..........  6%  229M 3s\n  7100K .......... .......... .......... .......... ..........  6%  268M 3s\n  7150K .......... .......... .......... .......... ..........  6%  218M 3s\n  7200K .......... .......... .......... .......... ..........  6%  280M 3s\n  7250K .......... .......... .......... .......... ..........  6%  286M 3s\n  7300K .......... .......... .......... .......... ..........  6%  275M 3s\n  7350K .......... .......... .......... .......... ..........  6% 47.5M 3s\n  7400K .......... .......... .......... .......... ..........  6%  267M 3s\n  7450K .......... .......... .......... .......... ..........  6% 42.9M 3s\n  7500K .......... .......... .......... .......... ..........  6%  232M 3s\n  7550K .......... .......... .......... .......... ..........  6%  224M 3s\n  7600K .......... .......... .......... .......... ..........  6%  276M 3s\n  7650K .......... .......... .......... .......... ..........  6% 82.5M 3s\n  7700K .......... .......... .......... .......... ..........  6% 82.1M 2s\n  7750K .......... .......... .......... .......... ..........  6%  356M 2s\n  7800K .......... .......... .......... .......... ..........  6%  378M 2s\n  7850K .......... .......... .......... .......... ..........  6%  295M 2s\n  7900K .......... .......... .......... .......... ..........  6%  275M 2s\n  7950K .......... .......... .......... .......... ..........  6% 82.3M 2s\n  8000K .......... .......... .......... .......... ..........  7%  282M 2s\n  8050K .......... .......... .......... .......... ..........  7%  294M 2s\n  8100K .......... .......... .......... .......... ..........  7%  280M 2s\n  8150K .......... .......... .......... .......... ..........  7%  241M 2s\n  8200K .......... .......... .......... .......... ..........  7% 14.5M 2s\n  8250K .......... .......... .......... .......... ..........  7%  271M 2s\n  8300K .......... .......... .......... .......... ..........  7%  139M 2s\n  8350K .......... .......... .......... .......... ..........  7%  228M 2s\n  8400K .......... .......... .......... .......... ..........  7%  256M 2s\n  8450K .......... .......... .......... .......... ..........  7%  186M 2s\n  8500K .......... .......... .......... .......... ..........  7%  288M 2s\n  8550K .......... .......... .......... .......... ..........  7%  212M 2s\n  8600K .......... .......... .......... .......... ..........  7%  404M 2s\n  8650K .......... .......... .......... .......... ..........  7%  402M 2s\n  8700K .......... .......... .......... .......... ..........  7%  302M 2s\n  8750K .......... .......... .......... .......... ..........  7%  237M 2s\n  8800K .......... .......... .......... .......... ..........  7%  284M 2s\n  8850K .......... .......... .......... .......... ..........  7% 25.5M 2s\n  8900K .......... .......... .......... .......... ..........  7%  258M 2s\n  8950K .......... .......... .......... .......... ..........  7%  241M 2s\n  9000K .......... .......... .......... .......... ..........  7% 53.5M 2s\n  9050K .......... .......... .......... .......... ..........  7%  397M 2s\n  9100K .......... .......... .......... .......... ..........  7%  391M 2s\n  9150K .......... .......... .......... .......... ..........  8%  227M 2s\n  9200K .......... .......... .......... .......... ..........  8%  268M 2s\n  9250K .......... .......... .......... .......... ..........  8%  284M 2s\n  9300K .......... .......... .......... .......... ..........  8%  379M 2s\n  9350K .......... .......... .......... .......... ..........  8%  261M 2s\n  9400K .......... .......... .......... .......... ..........  8%  233M 2s\n  9450K .......... .......... .......... .......... ..........  8%  274M 2s\n  9500K .......... .......... .......... .......... ..........  8%  257M 2s\n  9550K .......... .......... .......... .......... ..........  8%  117M 2s\n  9600K .......... .......... .......... .......... ..........  8%  130M 2s\n  9650K .......... .......... .......... .......... ..........  8%  277M 2s\n  9700K .......... .......... .......... .......... ..........  8%  266M 2s\n  9750K .......... .......... .......... .......... ..........  8%  250M 2s\n  9800K .......... .......... .......... .......... ..........  8% 32.1M 2s\n  9850K .......... .......... .......... .......... ..........  8%  272M 2s\n  9900K .......... .......... .......... .......... ..........  8%  280M 2s\n  9950K .......... .......... .......... .......... ..........  8% 78.9M 2s\n 10000K .......... .......... .......... .......... ..........  8% 94.6M 2s\n 10050K .......... .......... .......... .......... ..........  8%  396M 2s\n 10100K .......... .......... .......... .......... ..........  8%  355M 2s\n 10150K .......... .......... .......... .......... ..........  8%  229M 2s\n 10200K .......... .......... .......... .......... ..........  8%  267M 2s\n 10250K .......... .......... .......... .......... ..........  8%  287M 2s\n 10300K .......... .......... .......... .......... ..........  9%  379M 2s\n 10350K .......... .......... .......... .......... ..........  9%  225M 2s\n 10400K .......... .......... .......... .......... ..........  9%  278M 2s\n 10450K .......... .......... .......... .......... ..........  9%  290M 2s\n 10500K .......... .......... .......... .......... ..........  9%  271M 2s\n 10550K .......... .......... .......... .......... ..........  9%  103M 2s\n 10600K .......... .......... .......... .......... ..........  9%  238M 2s\n 10650K .......... .......... .......... .......... ..........  9%  272M 2s\n 10700K .......... .......... .......... .......... ..........  9%  285M 2s\n 10750K .......... .......... .......... .......... ..........  9%  231M 2s\n 10800K .......... .......... .......... .......... ..........  9% 32.4M 2s\n 10850K .......... .......... .......... .......... ..........  9%  250M 2s\n 10900K .......... .......... .......... .......... ..........  9%  102M 2s\n 10950K .......... .......... .......... .......... ..........  9%  216M 2s\n 11000K .......... .......... .......... .......... ..........  9%  246M 2s\n 11050K .......... .......... .......... .......... ..........  9% 94.1M 2s\n 11100K .......... .......... .......... .......... ..........  9%  386M 2s\n 11150K .......... .......... .......... .......... ..........  9%  289M 2s\n 11200K .......... .......... .......... .......... ..........  9%  248M 2s\n 11250K .......... .......... .......... .......... ..........  9%  275M 2s\n 11300K .......... .......... .......... .......... ..........  9%  256M 2s\n 11350K .......... .......... .......... .......... ..........  9%  195M 2s\n 11400K .......... .......... .......... .......... ..........  9%  244M 2s\n 11450K .......... .......... .......... .......... .......... 10%  281M 2s\n 11500K .......... .......... .......... .......... .......... 10%  275M 2s\n 11550K .......... .......... .......... .......... .......... 10% 80.3M 2s\n 11600K .......... .......... .......... .......... .......... 10%  253M 2s\n 11650K .......... .......... .......... .......... .......... 10%  283M 2s\n 11700K .......... .......... .......... .......... .......... 10%  276M 2s\n 11750K .......... .......... .......... .......... .......... 10%  241M 2s\n 11800K .......... .......... .......... .......... .......... 10% 70.9M 2s\n 11850K .......... .......... .......... .......... .......... 10%  257M 2s\n 11900K .......... .......... .......... .......... .......... 10% 50.3M 2s\n 11950K .......... .......... .......... .......... .......... 10%  274M 2s\n 12000K .......... .......... .......... .......... .......... 10%  286M 2s\n 12050K .......... .......... .......... .......... .......... 10%  252M 2s\n 12100K .......... .......... .......... .......... .......... 10% 77.3M 2s\n 12150K .......... .......... .......... .......... .......... 10%  239M 2s\n 12200K .......... .......... .......... .......... .......... 10% 85.9M 2s\n 12250K .......... .......... .......... .......... .......... 10%  391M 2s\n 12300K .......... .......... .......... .......... .......... 10%  405M 2s\n 12350K .......... .......... .......... .......... .......... 10%  271M 2s\n 12400K .......... .......... .......... .......... .......... 10%  282M 2s\n 12450K .......... .......... .......... .......... .......... 10%  262M 2s\n 12500K .......... .......... .......... .......... .......... 10% 91.1M 2s\n 12550K .......... .......... .......... .......... .......... 10%  244M 2s\n 12600K .......... .......... .......... .......... .......... 11%  274M 2s\n 12650K .......... .......... .......... .......... .......... 11%  276M 2s\n 12700K .......... .......... .......... .......... .......... 11% 45.1M 2s\n 12750K .......... .......... .......... .......... .......... 11%  228M 2s\n 12800K .......... .......... .......... .......... .......... 11%  267M 2s\n 12850K .......... .......... .......... .......... .......... 11% 80.7M 2s\n 12900K .......... .......... .......... .......... .......... 11%  383M 2s\n 12950K .......... .......... .......... .......... .......... 11%  353M 2s\n 13000K .......... .......... .......... .......... .......... 11%  258M 2s\n 13050K .......... .......... .......... .......... .......... 11%  258M 2s\n 13100K .......... .......... .......... .......... .......... 11%  250M 2s\n 13150K .......... .......... .......... .......... .......... 11%  319M 2s\n 13200K .......... .......... .......... .......... .......... 11%  390M 2s\n 13250K .......... .......... .......... .......... .......... 11%  284M 2s\n 13300K .......... .......... .......... .......... .......... 11%  274M 2s\n 13350K .......... .......... .......... .......... .......... 11%  246M 2s\n 13400K .......... .......... .......... .......... .......... 11%  276M 2s\n 13450K .......... .......... .......... .......... .......... 11%  256M 2s\n 13500K .......... .......... .......... .......... .......... 11%  310M 2s\n 13550K .......... .......... .......... .......... .......... 11%  181M 2s\n 13600K .......... .......... .......... .......... .......... 11%  273M 2s\n 13650K .......... .......... .......... .......... .......... 11%  279M 2s\n 13700K .......... .......... .......... .......... .......... 12% 23.3M 2s\n 13750K .......... .......... .......... .......... .......... 12% 89.4M 2s\n 13800K .......... .......... .......... .......... .......... 12% 85.0M 2s\n 13850K .......... .......... .......... .......... .......... 12%  316M 2s\n 13900K .......... .......... .......... .......... .......... 12%  389M 2s\n 13950K .......... .......... .......... .......... .......... 12%  229M 2s\n 14000K .......... .......... .......... .......... .......... 12%  258M 2s\n 14050K .......... .......... .......... .......... .......... 12%  261M 2s\n 14100K .......... .......... .......... .......... .......... 12%  256M 2s\n 14150K .......... .......... .......... .......... .......... 12% 75.8M 2s\n 14200K .......... .......... .......... .......... .......... 12%  245M 2s\n 14250K .......... .......... .......... .......... .......... 12%  246M 2s\n 14300K .......... .......... .......... .......... .......... 12%  277M 2s\n 14350K .......... .......... .......... .......... .......... 12%  208M 2s\n 14400K .......... .......... .......... .......... .......... 12%  276M 2s\n 14450K .......... .......... .......... .......... .......... 12%  277M 2s\n 14500K .......... .......... .......... .......... .......... 12% 26.1M 2s\n 14550K .......... .......... .......... .......... .......... 12%  306M 2s\n 14600K .......... .......... .......... .......... .......... 12%  379M 2s\n 14650K .......... .......... .......... .......... .......... 12%  400M 2s\n 14700K .......... .......... .......... .......... .......... 12%  298M 2s\n 14750K .......... .......... .......... .......... .......... 12%  217M 2s\n 14800K .......... .......... .......... .......... .......... 12% 42.7M 2s\n 14850K .......... .......... .......... .......... .......... 13%  249M 2s\n 14900K .......... .......... .......... .......... .......... 13%  390M 2s\n 14950K .......... .......... .......... .......... .......... 13%  359M 2s\n 15000K .......... .......... .......... .......... .......... 13%  408M 2s\n 15050K .......... .......... .......... .......... .......... 13%  289M 2s\n 15100K .......... .......... .......... .......... .......... 13%  279M 1s\n 15150K .......... .......... .......... .......... .......... 13%  223M 1s\n 15200K .......... .......... .......... .......... .......... 13% 78.0M 1s\n 15250K .......... .......... .......... .......... .......... 13%  280M 1s\n 15300K .......... .......... .......... .......... .......... 13%  269M 1s\n 15350K .......... .......... .....\n\n*** WARNING: max output size exceeded, skipping output. ***\n\n00K .......... .......... .......... .......... .......... 87% 6.77M 0s\n100450K .......... .......... .......... .......... .......... 87% 60.5M 0s\n100500K .......... .......... .......... .......... .......... 87%  232M 0s\n100550K .......... .......... .......... .......... .......... 87%  238M 0s\n100600K .......... .......... .......... .......... .......... 87%  198M 0s\n100650K .......... .......... .......... .......... .......... 87%  249M 0s\n100700K .......... .......... .......... .......... .......... 87%  231M 0s\n100750K .......... .......... .......... .......... .......... 87%  137M 0s\n100800K .......... .......... .......... .......... .......... 88%  184M 0s\n100850K .......... .......... .......... .......... .......... 88%  229M 0s\n100900K .......... .......... .......... .......... .......... 88%  170M 0s\n100950K .......... .......... .......... .......... .......... 88% 5.76M 0s\n101000K .......... .......... .......... .......... .......... 88%  319M 0s\n101050K .......... .......... .......... .......... .......... 88%  389M 0s\n101100K .......... .......... .......... .......... .......... 88%  318M 0s\n101150K .......... .......... .......... .......... .......... 88%  221M 0s\n101200K .......... .......... .......... .......... .......... 88%  255M 0s\n101250K .......... .......... .......... .......... .......... 88% 8.47M 0s\n101300K .......... .......... .......... .......... .......... 88%  201M 0s\n101350K .......... .......... .......... .......... .......... 88%  233M 0s\n101400K .......... .......... .......... .......... .......... 88%  259M 0s\n101450K .......... .......... .......... .......... .......... 88%  262M 0s\n101500K .......... .......... .......... .......... .......... 88%  275M 0s\n101550K .......... .......... .......... .......... .......... 88%  226M 0s\n101600K .......... .......... .......... .......... .......... 88%  268M 0s\n101650K .......... .......... .......... .......... .......... 88%  378M 0s\n101700K .......... .......... .......... .......... .......... 88%  399M 0s\n101750K .......... .......... .......... .......... .......... 88%  280M 0s\n101800K .......... .......... .......... .......... .......... 88%  279M 0s\n101850K .......... .......... .......... .......... .......... 88%  280M 0s\n101900K .......... .......... .......... .......... .......... 88% 6.93M 0s\n101950K .......... .......... .......... .......... .......... 89%  110M 0s\n102000K .......... .......... .......... .......... .......... 89% 69.3M 0s\n102050K .......... .......... .......... .......... .......... 89%  235M 0s\n102100K .......... .......... .......... .......... .......... 89%  264M 0s\n102150K .......... .......... .......... .......... .......... 89%  243M 0s\n102200K .......... .......... .......... .......... .......... 89%  318M 0s\n102250K .......... .......... .......... .......... .......... 89%  386M 0s\n102300K .......... .......... .......... .......... .......... 89%  395M 0s\n102350K .......... .......... .......... .......... .......... 89%  232M 0s\n102400K .......... .......... .......... .......... .......... 89%  264M 0s\n102450K .......... .......... .......... .......... .......... 89%  274M 0s\n102500K .......... .......... .......... .......... .......... 89%  268M 0s\n102550K .......... .......... .......... .......... .......... 89%  254M 0s\n102600K .......... .......... .......... .......... .......... 89%  387M 0s\n102650K .......... .......... .......... .......... .......... 89%  390M 0s\n102700K .......... .......... .......... .......... .......... 89%  319M 0s\n102750K .......... .......... .......... .......... .......... 89%  231M 0s\n102800K .......... .......... .......... .......... .......... 89%  274M 0s\n102850K .......... .......... .......... .......... .......... 89%  264M 0s\n102900K .......... .......... .......... .......... .......... 89% 4.63M 0s\n102950K .......... .......... .......... .......... .......... 89%  155M 0s\n103000K .......... .......... .......... .......... .......... 89%  185M 0s\n103050K .......... .......... .......... .......... .......... 89%  322M 0s\n103100K .......... .......... .......... .......... .......... 90%  376M 0s\n103150K .......... .......... .......... .......... .......... 90%  226M 0s\n103200K .......... .......... .......... .......... .......... 90%  268M 0s\n103250K .......... .......... .......... .......... .......... 90% 6.32M 0s\n103300K .......... .......... .......... .......... .......... 90%  220M 0s\n103350K .......... .......... .......... .......... .......... 90%  242M 0s\n103400K .......... .......... .......... .......... .......... 90%  272M 0s\n103450K .......... .......... .......... .......... .......... 90%  277M 0s\n103500K .......... .......... .......... .......... .......... 90%  261M 0s\n103550K .......... .......... .......... .......... .......... 90%  222M 0s\n103600K .......... .......... .......... .......... .......... 90%  386M 0s\n103650K .......... .......... .......... .......... .......... 90%  391M 0s\n103700K .......... .......... .......... .......... .......... 90%  399M 0s\n103750K .......... .......... .......... .......... .......... 90%  270M 0s\n103800K .......... .......... .......... .......... .......... 90%  274M 0s\n103850K .......... .......... .......... .......... .......... 90%  276M 0s\n103900K .......... .......... .......... .......... .......... 90%  275M 0s\n103950K .......... .......... .......... .......... .......... 90%  256M 0s\n104000K .......... .......... .......... .......... .......... 90% 5.52M 0s\n104050K .......... .......... .......... .......... .......... 90%  252M 0s\n104100K .......... .......... .......... .......... .......... 90%  266M 0s\n104150K .......... .......... .......... .......... .......... 90%  238M 0s\n104200K .......... .......... .......... .......... .......... 90% 88.5M 0s\n104250K .......... .......... .......... .......... .......... 91%  368M 0s\n104300K .......... .......... .......... .......... .......... 91%  401M 0s\n104350K .......... .......... .......... .......... .......... 91%  331M 0s\n104400K .......... .......... .......... .......... .......... 91%  307M 0s\n104450K .......... .......... .......... .......... .......... 91%  266M 0s\n104500K .......... .......... .......... .......... .......... 91%  256M 0s\n104550K .......... .......... .......... .......... .......... 91%  240M 0s\n104600K .......... .......... .......... .......... .......... 91%  125M 0s\n104650K .......... .......... .......... .......... .......... 91%  180M 0s\n104700K .......... .......... .......... .......... .......... 91%  227M 0s\n104750K .......... .......... .......... .......... .......... 91%  316M 0s\n104800K .......... .......... .......... .......... .......... 91% 2.59M 0s\n104850K .......... .......... .......... .......... .......... 91%  221M 0s\n104900K .......... .......... .......... .......... .......... 91%  254M 0s\n104950K .......... .......... .......... .......... .......... 91%  226M 0s\n105000K .......... .......... .......... .......... .......... 91%  275M 0s\n105050K .......... .......... .......... .......... .......... 91%  272M 0s\n105100K .......... .......... .......... .......... .......... 91%  220M 0s\n105150K .......... .......... .......... .......... .......... 91%  197M 0s\n105200K .......... .......... .......... .......... .......... 91% 89.2M 0s\n105250K .......... .......... .......... .......... .......... 91%  396M 0s\n105300K .......... .......... .......... .......... .......... 91%  394M 0s\n105350K .......... .......... .......... .......... .......... 91%  314M 0s\n105400K .......... .......... .......... .......... .......... 92%  281M 0s\n105450K .......... .......... .......... .......... .......... 92%  223M 0s\n105500K .......... .......... .......... .......... .......... 92%  237M 0s\n105550K .......... .......... .......... .......... .......... 92% 4.76M 0s\n105600K .......... .......... .......... .......... .......... 92% 53.3M 0s\n105650K .......... .......... .......... .......... .......... 92%  263M 0s\n105700K .......... .......... .......... .......... .......... 92%  155M 0s\n105750K .......... .......... .......... .......... .......... 92%  172M 0s\n105800K .......... .......... .......... .......... .......... 92%  310M 0s\n105850K .......... .......... .......... .......... .......... 92%  321M 0s\n105900K .......... .......... .......... .......... .......... 92%  213M 0s\n105950K .......... .......... .......... .......... .......... 92%  196M 0s\n106000K .......... .......... .......... .......... .......... 92%  233M 0s\n106050K .......... .......... .......... .......... .......... 92%  253M 0s\n106100K .......... .......... .......... .......... .......... 92%  273M 0s\n106150K .......... .......... .......... .......... .......... 92%  174M 0s\n106200K .......... .......... .......... .......... .......... 92%  176M 0s\n106250K .......... .......... .......... .......... .......... 92% 2.39M 0s\n106300K .......... .......... .......... .......... .......... 92%  167M 0s\n106350K .......... .......... .......... .......... .......... 92%  231M 0s\n106400K .......... .......... .......... .......... .......... 92%  346M 0s\n106450K .......... .......... .......... .......... .......... 92%  388M 0s\n106500K .......... .......... .......... .......... .......... 92%  276M 0s\n106550K .......... .......... .......... .......... .......... 93%  233M 0s\n106600K .......... .......... .......... .......... .......... 93%  255M 0s\n106650K .......... .......... .......... .......... .......... 93%  259M 0s\n106700K .......... .......... .......... .......... .......... 93%  240M 0s\n106750K .......... .......... .......... .......... .......... 93%  215M 0s\n106800K .......... .......... .......... .......... .......... 93%  237M 0s\n106850K .......... .......... .......... .......... .......... 93%  223M 0s\n106900K .......... .......... .......... .......... .......... 93%  260M 0s\n106950K .......... .......... .......... .......... .......... 93%  226M 0s\n107000K .......... .......... .......... .......... .......... 93% 2.74M 0s\n107050K .......... .......... .......... .......... .......... 93%  144M 0s\n107100K .......... .......... .......... .......... .......... 93%  372M 0s\n107150K .......... .......... .......... .......... .......... 93%  328M 0s\n107200K .......... .......... .......... .......... .......... 93%  397M 0s\n107250K .......... .......... .......... .......... .......... 93%  373M 0s\n107300K .......... .......... .......... .......... .......... 93%  395M 0s\n107350K .......... .......... .......... .......... .......... 93%  351M 0s\n107400K .......... .......... .......... .......... .......... 93%  329M 0s\n107450K .......... .......... .......... .......... .......... 93%  276M 0s\n107500K .......... .......... .......... .......... .......... 93% 78.7M 0s\n107550K .......... .......... .......... .......... .......... 93%  202M 0s\n107600K .......... .......... .......... .......... .......... 93%  224M 0s\n107650K .......... .......... .......... .......... .......... 94%  256M 0s\n107700K .......... .......... .......... .......... .......... 94%  336M 0s\n107750K .......... .......... .......... .......... .......... 94%  342M 0s\n107800K .......... .......... .......... .......... .......... 94%  362M 0s\n107850K .......... .......... .......... .......... .......... 94% 6.33M 0s\n107900K .......... .......... .......... .......... .......... 94%  245M 0s\n107950K .......... .......... .......... .......... .......... 94% 11.0M 0s\n108000K .......... .......... .......... .......... .......... 94%  247M 0s\n108050K .......... .......... .......... .......... .......... 94% 13.5M 0s\n108100K .......... .......... .......... .......... .......... 94%  190M 0s\n108150K .......... .......... .......... .......... .......... 94% 75.0M 0s\n108200K .......... .......... .......... .......... .......... 94%  255M 0s\n108250K .......... .......... .......... .......... .......... 94%  268M 0s\n108300K .......... .......... .......... .......... .......... 94%  153M 0s\n108350K .......... .......... .......... .......... .......... 94%  153M 0s\n108400K .......... .......... .......... .......... .......... 94%  204M 0s\n108450K .......... .......... .......... .......... .......... 94%  209M 0s\n108500K .......... .......... .......... .......... .......... 94%  241M 0s\n108550K .......... .......... .......... .......... .......... 94%  230M 0s\n108600K .......... .......... .......... .......... .......... 94%  267M 0s\n108650K .......... .......... .......... .......... .......... 94%  278M 0s\n108700K .......... .......... .......... .......... .......... 94%  271M 0s\n108750K .......... .......... .......... .......... .......... 94%  220M 0s\n108800K .......... .......... .......... .......... .......... 95%  270M 0s\n108850K .......... .......... .......... .......... .......... 95% 3.04M 0s\n108900K .......... .......... .......... .......... .......... 95%  154M 0s\n108950K .......... .......... .......... .......... .......... 95%  184M 0s\n109000K .......... .......... .......... .......... .......... 95%  224M 0s\n109050K .......... .......... .......... .......... .......... 95%  265M 0s\n109100K .......... .......... .......... .......... .......... 95% 7.38M 0s\n109150K .......... .......... .......... .......... .......... 95%  255M 0s\n109200K .......... .......... .......... .......... .......... 95%  371M 0s\n109250K .......... .......... .......... .......... .......... 95%  303M 0s\n109300K .......... .......... .......... .......... .......... 95%  220M 0s\n109350K .......... .......... .......... .......... .......... 95% 72.4M 0s\n109400K .......... .......... .......... .......... .......... 95%  262M 0s\n109450K .......... .......... .......... .......... .......... 95%  265M 0s\n109500K .......... .......... .......... .......... .......... 95%  252M 0s\n109550K .......... .......... .......... .......... .......... 95%  279M 0s\n109600K .......... .......... .......... .......... .......... 95%  330M 0s\n109650K .......... .......... .......... .......... .......... 95%  299M 0s\n109700K .......... .......... .......... .......... .......... 95%  272M 0s\n109750K .......... .......... .......... .......... .......... 95%  253M 0s\n109800K .......... .......... .......... .......... .......... 95%  268M 0s\n109850K .......... .......... .......... .......... .......... 95%  259M 0s\n109900K .......... .......... .......... .......... .......... 95%  266M 0s\n109950K .......... .......... .......... .......... .......... 96%  218M 0s\n110000K .......... .......... .......... .......... .......... 96%  276M 0s\n110050K .......... .......... .......... .......... .......... 96%  279M 0s\n110100K .......... .......... .......... .......... .......... 96%  275M 0s\n110150K .......... .......... .......... .......... .......... 96%  245M 0s\n110200K .......... .......... .......... .......... .......... 96% 3.04M 0s\n110250K .......... .......... .......... .......... .......... 96%  198M 0s\n110300K .......... .......... .......... .......... .......... 96%  196M 0s\n110350K .......... .......... .......... .......... .......... 96%  143M 0s\n110400K .......... .......... .......... .......... .......... 96%  137M 0s\n110450K .......... .......... .......... .......... .......... 96%  240M 0s\n110500K .......... .......... .......... .......... .......... 96%  190M 0s\n110550K .......... .......... .......... .......... .......... 96%  150M 0s\n110600K .......... .......... .......... .......... .......... 96% 47.5M 0s\n110650K .......... .......... .......... .......... .......... 96%  265M 0s\n110700K .......... .......... .......... .......... .......... 96%  265M 0s\n110750K .......... .......... .......... .......... .......... 96%  324M 0s\n110800K .......... .......... .......... .......... .......... 96%  396M 0s\n110850K .......... .......... .......... .......... .......... 96%  355M 0s\n110900K .......... .......... .......... .......... .......... 96%  281M 0s\n110950K .......... .......... .......... .......... .......... 96% 2.95M 0s\n111000K .......... .......... .......... .......... .......... 96%  253M 0s\n111050K .......... .......... .......... .......... .......... 96%  375M 0s\n111100K .......... .......... .......... .......... .......... 97%  359M 0s\n111150K .......... .......... .......... .......... .......... 97%  307M 0s\n111200K .......... .......... .......... .......... .......... 97%  270M 0s\n111250K .......... .......... .......... .......... .......... 97% 16.3M 0s\n111300K .......... .......... .......... .......... .......... 97%  252M 0s\n111350K .......... .......... .......... .......... .......... 97%  242M 0s\n111400K .......... .......... .......... .......... .......... 97%  268M 0s\n111450K .......... .......... .......... .......... .......... 97% 72.1M 0s\n111500K .......... .......... .......... .......... .......... 97%  243M 0s\n111550K .......... .......... .......... .......... .......... 97%  230M 0s\n111600K .......... .......... .......... .......... .......... 97%  271M 0s\n111650K .......... .......... .......... .......... .......... 97% 80.2M 0s\n111700K .......... .......... .......... .......... .......... 97%  276M 0s\n111750K .......... .......... .......... .......... .......... 97%  236M 0s\n111800K .......... .......... .......... .......... .......... 97%  269M 0s\n111850K .......... .......... .......... .......... .......... 97%  254M 0s\n111900K .......... .......... .......... .......... .......... 97%  377M 0s\n111950K .......... .......... .......... .......... .......... 97%  284M 0s\n112000K .......... .......... .......... .......... .......... 97%  292M 0s\n112050K .......... .......... .......... .......... .......... 97% 4.11M 0s\n112100K .......... .......... .......... .......... .......... 97%  304M 0s\n112150K .......... .......... .......... .......... .......... 97%  199M 0s\n112200K .......... .......... .......... .......... .......... 97%  237M 0s\n112250K .......... .......... .......... .......... .......... 98%  265M 0s\n112300K .......... .......... .......... .......... .......... 98%  248M 0s\n112350K .......... .......... .......... .......... .......... 98% 12.1M 0s\n112400K .......... .......... .......... .......... .......... 98%  245M 0s\n112450K .......... .......... .......... .......... .......... 98%  223M 0s\n112500K .......... .......... .......... .......... .......... 98%  262M 0s\n112550K .......... .......... .......... .......... .......... 98%  250M 0s\n112600K .......... .......... .......... .......... .......... 98%  381M 0s\n112650K .......... .......... .......... .......... .......... 98%  396M 0s\n112700K .......... .......... .......... .......... .......... 98%  312M 0s\n112750K .......... .......... .......... .......... .......... 98%  226M 0s\n112800K .......... .......... .......... .......... .......... 98%  275M 0s\n112850K .......... .......... .......... .......... .......... 98%  270M 0s\n112900K .......... .......... .......... .......... .......... 98%  256M 0s\n112950K .......... .......... .......... .......... .......... 98%  250M 0s\n113000K .......... .......... .......... .......... .......... 98%  265M 0s\n113050K .......... .......... .......... .......... .......... 98%  270M 0s\n113100K .......... .......... .......... .......... .......... 98%  277M 0s\n113150K .......... .......... .......... .......... .......... 98%  225M 0s\n113200K .......... .......... .......... .......... .......... 98%  277M 0s\n113250K .......... .......... .......... .......... .......... 98% 2.95M 0s\n113300K .......... .......... .......... .......... .......... 98%  254M 0s\n113350K .......... .......... .......... .......... .......... 98% 69.7M 0s\n113400K .......... .......... .......... .......... .......... 99%  258M 0s\n113450K .......... .......... .......... .......... .......... 99%  262M 0s\n113500K .......... .......... .......... .......... .......... 99%  258M 0s\n113550K .......... .......... .......... .......... .......... 99% 79.3M 0s\n113600K .......... .......... .......... .......... .......... 99%  383M 0s\n113650K .......... .......... .......... .......... .......... 99%  389M 0s\n113700K .......... .......... .......... .......... .......... 99%  343M 0s\n113750K .......... .......... .......... .......... .......... 99%  247M 0s\n113800K .......... .......... .......... .......... .......... 99% 76.8M 0s\n113850K .......... .......... .......... .......... .......... 99%  268M 0s\n113900K .......... .......... .......... .......... .......... 99% 5.54M 0s\n113950K .......... .......... .......... .......... .......... 99%  107M 0s\n114000K .......... .......... .......... .......... .......... 99%  229M 0s\n114050K .......... .......... .......... .......... .......... 99%  228M 0s\n114100K .......... .......... .......... .......... .......... 99%  271M 0s\n114150K .......... .......... .......... .......... .......... 99%  239M 0s\n114200K .......... .......... .......... .......... .......... 99% 90.2M 0s\n114250K .......... .......... .......... .......... .......... 99%  260M 0s\n114300K .......... .......... .......... .......... .......... 99%  273M 0s\n114350K .......... .......... .......... .......... .......... 99%  221M 0s\n114400K .......... .......... .......... .......... .......... 99%  250M 0s\n114450K .......... .......... .......... .......... .......... 99%  370M 0s\n114500K .......... .......... .......... .......... .......... 99%  388M 0s\n114550K .......... .......... ..                              100%  349M=1.9s\n\n2025-06-11 14:26:49 (59.5 MB/s) - ‘google-chrome-stable_current_amd64.deb’ saved [117322064/117322064]\n\nReading package lists...\nBuilding dependency tree...\nReading state information...\nThe following additional packages will be installed:\n  fonts-liberation libgbm1 libwayland-server0\nThe following NEW packages will be installed:\n  fonts-liberation google-chrome-stable libgbm1 libwayland-server0\n0 upgraded, 4 newly installed, 0 to remove and 54 not upgraded.\nNeed to get 882 kB/118 MB of archives.\nAfter this operation, 386 MB of additional disk space will be used.\nGet:1 http://archive.ubuntu.com/ubuntu focal/main amd64 fonts-liberation all 1:1.07.4-11 [822 kB]\nGet:2 http://archive.ubuntu.com/ubuntu focal-updates/main amd64 libwayland-server0 amd64 1.18.0-1ubuntu0.1 [31.3 kB]\nGet:3 http://archive.ubuntu.com/ubuntu focal-updates/main amd64 libgbm1 amd64 21.2.6-0ubuntu0.1~20.04.2 [29.2 kB]\nGet:4 /databricks/driver/google-chrome-stable_current_amd64.deb google-chrome-stable amd64 137.0.7151.103-1 [117 MB]\ndebconf: delaying package configuration, since apt-utils is not installed\nFetched 882 kB in 1s (772 kB/s)\nSelecting previously unselected package fonts-liberation.\n(Reading database ... \n(Reading database ... 5%\n(Reading database ... 10%\n(Reading database ... 15%\n(Reading database ... 20%\n(Reading database ... 25%\n(Reading database ... 30%\n(Reading database ... 35%\n(Reading database ... 40%\n(Reading database ... 45%\n(Reading database ... 50%\n(Reading database ... 55%\n(Reading database ... 60%\n(Reading database ... 65%\n(Reading database ... 70%\n(Reading database ... 75%\n(Reading database ... 80%\n(Reading database ... 85%\n(Reading database ... 90%\n(Reading database ... 95%\n(Reading database ... 100%\n(Reading database ... 98413 files and directories currently installed.)\nPreparing to unpack .../fonts-liberation_1%3a1.07.4-11_all.deb ...\nUnpacking fonts-liberation (1:1.07.4-11) ...\nSelecting previously unselected package libwayland-server0:amd64.\nPreparing to unpack .../libwayland-server0_1.18.0-1ubuntu0.1_amd64.deb ...\nUnpacking libwayland-server0:amd64 (1.18.0-1ubuntu0.1) ...\nSelecting previously unselected package libgbm1:amd64.\nPreparing to unpack .../libgbm1_21.2.6-0ubuntu0.1~20.04.2_amd64.deb ...\nUnpacking libgbm1:amd64 (21.2.6-0ubuntu0.1~20.04.2) ...\nSelecting previously unselected package google-chrome-stable.\nPreparing to unpack .../google-chrome-stable_current_amd64.deb ...\nUnpacking google-chrome-stable (137.0.7151.103-1) ...\nSetting up libwayland-server0:amd64 (1.18.0-1ubuntu0.1) ...\nSetting up libgbm1:amd64 (21.2.6-0ubuntu0.1~20.04.2) ...\nSetting up fonts-liberation (1:1.07.4-11) ...\nSetting up google-chrome-stable (137.0.7151.103-1) ...\nupdate-alternatives: using /usr/bin/google-chrome-stable to provide /usr/bin/x-www-browser (x-www-browser) in auto mode\nupdate-alternatives: using /usr/bin/google-chrome-stable to provide /usr/bin/gnome-www-browser (gnome-www-browser) in auto mode\nupdate-alternatives: using /usr/bin/google-chrome-stable to provide /usr/bin/google-chrome (google-chrome) in auto mode\nProcessing triggers for libc-bin (2.31-0ubuntu9.17) ...\nProcessing triggers for man-db (2.9.1-1) ...\nProcessing triggers for fontconfig (2.13.1-2ubuntu3) ...\nProcessing triggers for mime-support (3.64ubuntu1) ...\nReading package lists...\nBuilding dependency tree...\nReading state information...\n0 upgraded, 0 newly installed, 0 to remove and 54 not upgraded.\n"
     ]
    }
   ],
   "source": [
    "%sh\n",
    "sudo apt-get update\n",
    "sudo apt-get install -y wget unzip\n",
    "wget https://dl.google.com/linux/direct/google-chrome-stable_current_amd64.deb\n",
    "sudo apt-get install -y ./google-chrome-stable_current_amd64.deb\n",
    "sudo apt-get install -y -f  # Fix any dependency issues"
   ]
  },
  {
   "cell_type": "code",
   "execution_count": 0,
   "metadata": {
    "application/vnd.databricks.v1+cell": {
     "cellMetadata": {
      "byteLimit": 2048000,
      "rowLimit": 10000
     },
     "inputWidgets": {},
     "nuid": "b22cf090-a57f-4098-ab65-a52c9e99b957",
     "showTitle": false,
     "tableResultSettingsMap": {},
     "title": ""
    }
   },
   "outputs": [
    {
     "output_type": "stream",
     "name": "stdout",
     "output_type": "stream",
     "text": [
      "Google Chrome 137.0.7151.103 \n"
     ]
    }
   ],
   "source": [
    "%sh\n",
    "google-chrome --version"
   ]
  },
  {
   "cell_type": "code",
   "execution_count": 0,
   "metadata": {
    "application/vnd.databricks.v1+cell": {
     "cellMetadata": {
      "byteLimit": 2048000,
      "rowLimit": 10000
     },
     "inputWidgets": {},
     "nuid": "b0e6e6b7-1578-4d32-bbcd-5820479887e0",
     "showTitle": false,
     "tableResultSettingsMap": {},
     "title": ""
    }
   },
   "outputs": [
    {
     "output_type": "stream",
     "name": "stdout",
     "output_type": "stream",
     "text": [
      "Found 4 tables for prices_volumes\n"
     ]
    },
    {
     "output_type": "display_data",
     "data": {
      "text/html": [
       "<style scoped>\n",
       "  .table-result-container {\n",
       "    max-height: 300px;\n",
       "    overflow: auto;\n",
       "  }\n",
       "  table, th, td {\n",
       "    border: 1px solid black;\n",
       "    border-collapse: collapse;\n",
       "  }\n",
       "  th, td {\n",
       "    padding: 5px;\n",
       "  }\n",
       "  th {\n",
       "    text-align: left;\n",
       "  }\n",
       "</style><div class='table-result-container'><table class='table-result'><thead style='background-color: white'><tr><th>metric</th><th>date</th><th>value</th></tr></thead><tbody><tr><td>Prices (EUR/MWh)</td><td>Sat,_06/07</td><td>81.38</td></tr><tr><td>Prices (EUR/MWh)</td><td>Sun,_06/08</td><td>63.54</td></tr><tr><td>Prices (EUR/MWh)</td><td>Mon,_06/09</td><td>77.97</td></tr><tr><td>Prices (EUR/MWh)</td><td>Tue,_06/10</td><td>83.58</td></tr><tr><td>Prices (EUR/MWh)</td><td>Wed,_06/11</td><td>83.99</td></tr><tr><td>Prices (EUR/MWh)</td><td>Thu,_06/12</td><td>85.41</td></tr><tr><td>Volume (MWh)</td><td>Sat,_06/07</td><td>65968.3</td></tr><tr><td>Volume (MWh)</td><td>Sun,_06/08</td><td>72070.8</td></tr><tr><td>Volume (MWh)</td><td>Mon,_06/09</td><td>69105.4</td></tr><tr><td>Volume (MWh)</td><td>Tue,_06/10</td><td>69329.2</td></tr><tr><td>Volume (MWh)</td><td>Wed,_06/11</td><td>68380.2</td></tr><tr><td>Volume (MWh)</td><td>Thu,_06/12</td><td>79806.0</td></tr></tbody></table></div>"
      ]
     },
     "metadata": {
      "application/vnd.databricks.v1+output": {
       "addedWidgets": {},
       "aggData": [],
       "aggError": "",
       "aggOverflow": false,
       "aggSchema": [],
       "aggSeriesLimitReached": false,
       "aggType": "",
       "arguments": {},
       "columnCustomDisplayInfos": {},
       "data": [
        [
         "Prices (EUR/MWh)",
         "Sat,_06/07",
         81.38
        ],
        [
         "Prices (EUR/MWh)",
         "Sun,_06/08",
         63.54
        ],
        [
         "Prices (EUR/MWh)",
         "Mon,_06/09",
         77.97
        ],
        [
         "Prices (EUR/MWh)",
         "Tue,_06/10",
         83.58
        ],
        [
         "Prices (EUR/MWh)",
         "Wed,_06/11",
         83.99
        ],
        [
         "Prices (EUR/MWh)",
         "Thu,_06/12",
         85.41
        ],
        [
         "Volume (MWh)",
         "Sat,_06/07",
         65968.3
        ],
        [
         "Volume (MWh)",
         "Sun,_06/08",
         72070.8
        ],
        [
         "Volume (MWh)",
         "Mon,_06/09",
         69105.4
        ],
        [
         "Volume (MWh)",
         "Tue,_06/10",
         69329.2
        ],
        [
         "Volume (MWh)",
         "Wed,_06/11",
         68380.2
        ],
        [
         "Volume (MWh)",
         "Thu,_06/12",
         79806.0
        ]
       ],
       "datasetInfos": [],
       "dbfsResultPath": null,
       "isJsonSchema": true,
       "metadata": {},
       "overflow": false,
       "plotOptions": {
        "customPlotOptions": {},
        "displayType": "table",
        "pivotAggregation": null,
        "pivotColumns": null,
        "xColumns": null,
        "yColumns": null
       },
       "removedWidgets": [],
       "schema": [
        {
         "metadata": "{}",
         "name": "metric",
         "type": "\"string\""
        },
        {
         "metadata": "{}",
         "name": "date",
         "type": "\"string\""
        },
        {
         "metadata": "{}",
         "name": "value",
         "type": "\"float\""
        }
       ],
       "type": "table"
      }
     },
     "output_type": "display_data"
    },
    {
     "output_type": "stream",
     "name": "stdout",
     "output_type": "stream",
     "text": [
      "Found 4 tables for block_products\n"
     ]
    },
    {
     "output_type": "display_data",
     "data": {
      "text/html": [
       "<style scoped>\n",
       "  .table-result-container {\n",
       "    max-height: 300px;\n",
       "    overflow: auto;\n",
       "  }\n",
       "  table, th, td {\n",
       "    border: 1px solid black;\n",
       "    border-collapse: collapse;\n",
       "  }\n",
       "  th, td {\n",
       "    padding: 5px;\n",
       "  }\n",
       "  th {\n",
       "    text-align: left;\n",
       "  }\n",
       "</style><div class='table-result-container'><table class='table-result'><thead style='background-color: white'><tr><th>product</th><th>date</th><th>price</th></tr></thead><tbody><tr><td>Base (01-24)</td><td>Sat,_06/07</td><td>81.38</td></tr><tr><td>Base (01-24)</td><td>Sun,_06/08</td><td>63.54</td></tr><tr><td>Base (01-24)</td><td>Mon,_06/09</td><td>77.97</td></tr><tr><td>Base (01-24)</td><td>Tue,_06/10</td><td>83.58</td></tr><tr><td>Base (01-24)</td><td>Wed,_06/11</td><td>83.99</td></tr><tr><td>Base (01-24)</td><td>Thu,_06/12</td><td>85.41</td></tr><tr><td>Peak (9-20)</td><td>Sat,_06/07</td><td>48.62</td></tr><tr><td>Peak (9-20)</td><td>Sun,_06/08</td><td>34.44</td></tr><tr><td>Peak (9-20)</td><td>Mon,_06/09</td><td>43.5</td></tr><tr><td>Peak (9-20)</td><td>Tue,_06/10</td><td>69.62</td></tr><tr><td>Peak (9-20)</td><td>Wed,_06/11</td><td>59.18</td></tr><tr><td>Peak (9-20)</td><td>Thu,_06/12</td><td>58.13</td></tr><tr><td>Off-Peak  (1-8 & 21-24)</td><td>Sat,_06/07</td><td>114.13</td></tr><tr><td>Off-Peak  (1-8 & 21-24)</td><td>Sun,_06/08</td><td>92.65</td></tr><tr><td>Off-Peak  (1-8 & 21-24)</td><td>Mon,_06/09</td><td>112.44</td></tr><tr><td>Off-Peak  (1-8 & 21-24)</td><td>Tue,_06/10</td><td>97.54</td></tr><tr><td>Off-Peak  (1-8 & 21-24)</td><td>Wed,_06/11</td><td>108.81</td></tr><tr><td>Off-Peak  (1-8 & 21-24)</td><td>Thu,_06/12</td><td>112.7</td></tr></tbody></table></div>"
      ]
     },
     "metadata": {
      "application/vnd.databricks.v1+output": {
       "addedWidgets": {},
       "aggData": [],
       "aggError": "",
       "aggOverflow": false,
       "aggSchema": [],
       "aggSeriesLimitReached": false,
       "aggType": "",
       "arguments": {},
       "columnCustomDisplayInfos": {},
       "data": [
        [
         "Base (01-24)",
         "Sat,_06/07",
         81.38
        ],
        [
         "Base (01-24)",
         "Sun,_06/08",
         63.54
        ],
        [
         "Base (01-24)",
         "Mon,_06/09",
         77.97
        ],
        [
         "Base (01-24)",
         "Tue,_06/10",
         83.58
        ],
        [
         "Base (01-24)",
         "Wed,_06/11",
         83.99
        ],
        [
         "Base (01-24)",
         "Thu,_06/12",
         85.41
        ],
        [
         "Peak (9-20)",
         "Sat,_06/07",
         48.62
        ],
        [
         "Peak (9-20)",
         "Sun,_06/08",
         34.44
        ],
        [
         "Peak (9-20)",
         "Mon,_06/09",
         43.5
        ],
        [
         "Peak (9-20)",
         "Tue,_06/10",
         69.62
        ],
        [
         "Peak (9-20)",
         "Wed,_06/11",
         59.18
        ],
        [
         "Peak (9-20)",
         "Thu,_06/12",
         58.13
        ],
        [
         "Off-Peak  (1-8 & 21-24)",
         "Sat,_06/07",
         114.13
        ],
        [
         "Off-Peak  (1-8 & 21-24)",
         "Sun,_06/08",
         92.65
        ],
        [
         "Off-Peak  (1-8 & 21-24)",
         "Mon,_06/09",
         112.44
        ],
        [
         "Off-Peak  (1-8 & 21-24)",
         "Tue,_06/10",
         97.54
        ],
        [
         "Off-Peak  (1-8 & 21-24)",
         "Wed,_06/11",
         108.81
        ],
        [
         "Off-Peak  (1-8 & 21-24)",
         "Thu,_06/12",
         112.7
        ]
       ],
       "datasetInfos": [],
       "dbfsResultPath": null,
       "isJsonSchema": true,
       "metadata": {},
       "overflow": false,
       "plotOptions": {
        "customPlotOptions": {},
        "displayType": "table",
        "pivotAggregation": null,
        "pivotColumns": null,
        "xColumns": null,
        "yColumns": null
       },
       "removedWidgets": [],
       "schema": [
        {
         "metadata": "{}",
         "name": "product",
         "type": "\"string\""
        },
        {
         "metadata": "{}",
         "name": "date",
         "type": "\"string\""
        },
        {
         "metadata": "{}",
         "name": "price",
         "type": "\"float\""
        }
       ],
       "type": "table"
      }
     },
     "output_type": "display_data"
    },
    {
     "output_type": "stream",
     "name": "stdout",
     "output_type": "stream",
     "text": [
      "Found 4 tables for hourly_products\n"
     ]
    },
    {
     "output_type": "display_data",
     "data": {
      "text/html": [
       "<style scoped>\n",
       "  .table-result-container {\n",
       "    max-height: 300px;\n",
       "    overflow: auto;\n",
       "  }\n",
       "  table, th, td {\n",
       "    border: 1px solid black;\n",
       "    border-collapse: collapse;\n",
       "  }\n",
       "  th, td {\n",
       "    padding: 5px;\n",
       "  }\n",
       "  th {\n",
       "    text-align: left;\n",
       "  }\n",
       "</style><div class='table-result-container'><table class='table-result'><thead style='background-color: white'><tr><th>hour</th><th>metric</th><th>date</th><th>value</th></tr></thead><tbody><tr><td>0 - 1</td><td>EUR/MWh</td><td>Fri,_06/06</td><td>103.57</td></tr><tr><td>0 - 1</td><td>EUR/MWh</td><td>Sat,_06/07</td><td>103.83</td></tr><tr><td>0 - 1</td><td>EUR/MWh</td><td>Sun,_06/08</td><td>96.01</td></tr><tr><td>0 - 1</td><td>EUR/MWh</td><td>Mon,_06/09</td><td>99.12</td></tr><tr><td>0 - 1</td><td>EUR/MWh</td><td>Tue,_06/10</td><td>89.91</td></tr><tr><td>0 - 1</td><td>EUR/MWh</td><td>Wed,_06/11</td><td>81.11</td></tr><tr><td>0 - 1</td><td>EUR/MWh</td><td>Thu,_06/12</td><td>107.36</td></tr><tr><td>MWh</td><td>2571.2</td><td>Fri,_06/06</td><td>2284.9</td></tr><tr><td>MWh</td><td>2571.2</td><td>Sat,_06/07</td><td>2217.9</td></tr><tr><td>MWh</td><td>2571.2</td><td>Sun,_06/08</td><td>2201.8</td></tr><tr><td>MWh</td><td>2571.2</td><td>Mon,_06/09</td><td>2730.2</td></tr><tr><td>MWh</td><td>2571.2</td><td>Tue,_06/10</td><td>2249.4</td></tr><tr><td>MWh</td><td>2571.2</td><td>Wed,_06/11</td><td>2658.9</td></tr><tr><td>1 - 2</td><td>EUR/MWh</td><td>Fri,_06/06</td><td>120.2</td></tr><tr><td>1 - 2</td><td>EUR/MWh</td><td>Sat,_06/07</td><td>99.5</td></tr><tr><td>1 - 2</td><td>EUR/MWh</td><td>Sun,_06/08</td><td>88.63</td></tr><tr><td>1 - 2</td><td>EUR/MWh</td><td>Mon,_06/09</td><td>94.51</td></tr><tr><td>1 - 2</td><td>EUR/MWh</td><td>Tue,_06/10</td><td>81.81</td></tr><tr><td>1 - 2</td><td>EUR/MWh</td><td>Wed,_06/11</td><td>74.99</td></tr><tr><td>1 - 2</td><td>EUR/MWh</td><td>Thu,_06/12</td><td>90.0</td></tr><tr><td>MWh</td><td>2810</td><td>Fri,_06/06</td><td>2192.5</td></tr><tr><td>MWh</td><td>2810</td><td>Sat,_06/07</td><td>2769.7</td></tr><tr><td>MWh</td><td>2810</td><td>Sun,_06/08</td><td>2313.1</td></tr><tr><td>MWh</td><td>2810</td><td>Mon,_06/09</td><td>2938.1</td></tr><tr><td>MWh</td><td>2810</td><td>Tue,_06/10</td><td>2224.0</td></tr><tr><td>MWh</td><td>2810</td><td>Wed,_06/11</td><td>3179.0</td></tr><tr><td>2 - 3</td><td>EUR/MWh</td><td>Fri,_06/06</td><td>108.37</td></tr><tr><td>2 - 3</td><td>EUR/MWh</td><td>Sat,_06/07</td><td>96.12</td></tr><tr><td>2 - 3</td><td>EUR/MWh</td><td>Sun,_06/08</td><td>86.39</td></tr><tr><td>2 - 3</td><td>EUR/MWh</td><td>Mon,_06/09</td><td>87.49</td></tr><tr><td>2 - 3</td><td>EUR/MWh</td><td>Tue,_06/10</td><td>71.07</td></tr><tr><td>2 - 3</td><td>EUR/MWh</td><td>Wed,_06/11</td><td>68.99</td></tr><tr><td>2 - 3</td><td>EUR/MWh</td><td>Thu,_06/12</td><td>84.77</td></tr><tr><td>MWh</td><td>2604.8</td><td>Fri,_06/06</td><td>2282.5</td></tr><tr><td>MWh</td><td>2604.8</td><td>Sat,_06/07</td><td>2907.4</td></tr><tr><td>MWh</td><td>2604.8</td><td>Sun,_06/08</td><td>2737.7</td></tr><tr><td>MWh</td><td>2604.8</td><td>Mon,_06/09</td><td>2676.3</td></tr><tr><td>MWh</td><td>2604.8</td><td>Tue,_06/10</td><td>2130.1</td></tr><tr><td>MWh</td><td>2604.8</td><td>Wed,_06/11</td><td>3264.6</td></tr><tr><td>3 - 4</td><td>EUR/MWh</td><td>Fri,_06/06</td><td>102.2</td></tr><tr><td>3 - 4</td><td>EUR/MWh</td><td>Sat,_06/07</td><td>96.24</td></tr><tr><td>3 - 4</td><td>EUR/MWh</td><td>Sun,_06/08</td><td>84.11</td></tr><tr><td>3 - 4</td><td>EUR/MWh</td><td>Mon,_06/09</td><td>85.21</td></tr><tr><td>3 - 4</td><td>EUR/MWh</td><td>Tue,_06/10</td><td>61.82</td></tr><tr><td>3 - 4</td><td>EUR/MWh</td><td>Wed,_06/11</td><td>72.64</td></tr><tr><td>3 - 4</td><td>EUR/MWh</td><td>Thu,_06/12</td><td>85.12</td></tr><tr><td>MWh</td><td>2509.7</td><td>Fri,_06/06</td><td>2201.8</td></tr><tr><td>MWh</td><td>2509.7</td><td>Sat,_06/07</td><td>3118.0</td></tr><tr><td>MWh</td><td>2509.7</td><td>Sun,_06/08</td><td>3014.7</td></tr><tr><td>MWh</td><td>2509.7</td><td>Mon,_06/09</td><td>2448.4</td></tr><tr><td>MWh</td><td>2509.7</td><td>Tue,_06/10</td><td>2178.4</td></tr><tr><td>MWh</td><td>2509.7</td><td>Wed,_06/11</td><td>3131.1</td></tr><tr><td>4 - 5</td><td>EUR/MWh</td><td>Fri,_06/06</td><td>108.5</td></tr><tr><td>4 - 5</td><td>EUR/MWh</td><td>Sat,_06/07</td><td>91.51</td></tr><tr><td>4 - 5</td><td>EUR/MWh</td><td>Sun,_06/08</td><td>78.96</td></tr><tr><td>4 - 5</td><td>EUR/MWh</td><td>Mon,_06/09</td><td>87.33</td></tr><tr><td>4 - 5</td><td>EUR/MWh</td><td>Tue,_06/10</td><td>56.22</td></tr><tr><td>4 - 5</td><td>EUR/MWh</td><td>Wed,_06/11</td><td>73.35</td></tr><tr><td>4 - 5</td><td>EUR/MWh</td><td>Thu,_06/12</td><td>89.35</td></tr><tr><td>MWh</td><td>2418.1</td><td>Fri,_06/06</td><td>2284.8</td></tr><tr><td>MWh</td><td>2418.1</td><td>Sat,_06/07</td><td>3052.2</td></tr><tr><td>MWh</td><td>2418.1</td><td>Sun,_06/08</td><td>2821.2</td></tr><tr><td>MWh</td><td>2418.1</td><td>Mon,_06/09</td><td>2509.4</td></tr><tr><td>MWh</td><td>2418.1</td><td>Tue,_06/10</td><td>2214.8</td></tr><tr><td>MWh</td><td>2418.1</td><td>Wed,_06/11</td><td>2621.6</td></tr><tr><td>5 - 6</td><td>EUR/MWh</td><td>Fri,_06/06</td><td>98.25</td></tr><tr><td>5 - 6</td><td>EUR/MWh</td><td>Sat,_06/07</td><td>90.21</td></tr><tr><td>5 - 6</td><td>EUR/MWh</td><td>Sun,_06/08</td><td>65.93</td></tr><tr><td>5 - 6</td><td>EUR/MWh</td><td>Mon,_06/09</td><td>91.81</td></tr><tr><td>5 - 6</td><td>EUR/MWh</td><td>Tue,_06/10</td><td>70.35</td></tr><tr><td>5 - 6</td><td>EUR/MWh</td><td>Wed,_06/11</td><td>87.65</td></tr><tr><td>5 - 6</td><td>EUR/MWh</td><td>Thu,_06/12</td><td>96.89</td></tr><tr><td>MWh</td><td>2526</td><td>Fri,_06/06</td><td>2118.5</td></tr><tr><td>MWh</td><td>2526</td><td>Sat,_06/07</td><td>2925.3</td></tr><tr><td>MWh</td><td>2526</td><td>Sun,_06/08</td><td>2582.4</td></tr><tr><td>MWh</td><td>2526</td><td>Mon,_06/09</td><td>2499.1</td></tr><tr><td>MWh</td><td>2526</td><td>Tue,_06/10</td><td>2333.3</td></tr><tr><td>MWh</td><td>2526</td><td>Wed,_06/11</td><td>2424.8</td></tr><tr><td>6 - 7</td><td>EUR/MWh</td><td>Fri,_06/06</td><td>107.69</td></tr><tr><td>6 - 7</td><td>EUR/MWh</td><td>Sat,_06/07</td><td>81.23</td></tr><tr><td>6 - 7</td><td>EUR/MWh</td><td>Sun,_06/08</td><td>45.44</td></tr><tr><td>6 - 7</td><td>EUR/MWh</td><td>Mon,_06/09</td><td>93.32</td></tr><tr><td>6 - 7</td><td>EUR/MWh</td><td>Tue,_06/10</td><td>81.73</td></tr><tr><td>6 - 7</td><td>EUR/MWh</td><td>Wed,_06/11</td><td>109.64</td></tr><tr><td>6 - 7</td><td>EUR/MWh</td><td>Thu,_06/12</td><td>111.79</td></tr><tr><td>MWh</td><td>2336.4</td><td>Fri,_06/06</td><td>1778.2</td></tr><tr><td>MWh</td><td>2336.4</td><td>Sat,_06/07</td><td>2747.4</td></tr><tr><td>MWh</td><td>2336.4</td><td>Sun,_06/08</td><td>2180.7</td></tr><tr><td>MWh</td><td>2336.4</td><td>Mon,_06/09</td><td>2487.1</td></tr><tr><td>MWh</td><td>2336.4</td><td>Tue,_06/10</td><td>2904.9</td></tr><tr><td>MWh</td><td>2336.4</td><td>Wed,_06/11</td><td>3231.9</td></tr><tr><td>7 - 8</td><td>EUR/MWh</td><td>Fri,_06/06</td><td>98.9</td></tr><tr><td>7 - 8</td><td>EUR/MWh</td><td>Sat,_06/07</td><td>80.58</td></tr><tr><td>7 - 8</td><td>EUR/MWh</td><td>Sun,_06/08</td><td>4.01</td></tr><tr><td>7 - 8</td><td>EUR/MWh</td><td>Mon,_06/09</td><td>89.91</td></tr><tr><td>7 - 8</td><td>EUR/MWh</td><td>Tue,_06/10</td><td>85.1</td></tr><tr><td>7 - 8</td><td>EUR/MWh</td><td>Wed,_06/11</td><td>105.59</td></tr><tr><td>7 - 8</td><td>EUR/MWh</td><td>Thu,_06/12</td><td>79.62</td></tr><tr><td>MWh</td><td>2441.9</td><td>Fri,_06/06</td><td>2393.6</td></tr><tr><td>MWh</td><td>2441.9</td><td>Sat,_06/07</td><td>2851.5</td></tr><tr><td>MWh</td><td>2441.9</td><td>Sun,_06/08</td><td>2400.3</td></tr><tr><td>MWh</td><td>2441.9</td><td>Mon,_06/09</td><td>3236.5</td></tr><tr><td>MWh</td><td>2441.9</td><td>Tue,_06/10</td><td>3343.4</td></tr><tr><td>MWh</td><td>2441.9</td><td>Wed,_06/11</td><td>3642.5</td></tr><tr><td>8 - 9</td><td>EUR/MWh</td><td>Fri,_06/06</td><td>67.34</td></tr><tr><td>8 - 9</td><td>EUR/MWh</td><td>Sat,_06/07</td><td>73.7</td></tr><tr><td>8 - 9</td><td>EUR/MWh</td><td>Sun,_06/08</td><td>0.0</td></tr><tr><td>8 - 9</td><td>EUR/MWh</td><td>Mon,_06/09</td><td>63.08</td></tr><tr><td>8 - 9</td><td>EUR/MWh</td><td>Tue,_06/10</td><td>86.14</td></tr><tr><td>8 - 9</td><td>EUR/MWh</td><td>Wed,_06/11</td><td>82.32</td></tr><tr><td>8 - 9</td><td>EUR/MWh</td><td>Thu,_06/12</td><td>77.27</td></tr><tr><td>MWh</td><td>2480.6</td><td>Fri,_06/06</td><td>3146.4</td></tr><tr><td>MWh</td><td>2480.6</td><td>Sat,_06/07</td><td>2724.0</td></tr><tr><td>MWh</td><td>2480.6</td><td>Sun,_06/08</td><td>2892.0</td></tr><tr><td>MWh</td><td>2480.6</td><td>Mon,_06/09</td><td>3105.8</td></tr><tr><td>MWh</td><td>2480.6</td><td>Tue,_06/10</td><td>3209.6</td></tr><tr><td>MWh</td><td>2480.6</td><td>Wed,_06/11</td><td>3667.7</td></tr><tr><td>9 - 10</td><td>EUR/MWh</td><td>Fri,_06/06</td><td>8.44</td></tr><tr><td>9 - 10</td><td>EUR/MWh</td><td>Sat,_06/07</td><td>59.48</td></tr><tr><td>9 - 10</td><td>EUR/MWh</td><td>Sun,_06/08</td><td>-0.5</td></tr><tr><td>9 - 10</td><td>EUR/MWh</td><td>Mon,_06/09</td><td>16.3</td></tr><tr><td>9 - 10</td><td>EUR/MWh</td><td>Tue,_06/10</td><td>65.81</td></tr><tr><td>9 - 10</td><td>EUR/MWh</td><td>Wed,_06/11</td><td>59.79</td></tr><tr><td>9 - 10</td><td>EUR/MWh</td><td>Thu,_06/12</td><td>36.67</td></tr><tr><td>MWh</td><td>2478.5</td><td>Fri,_06/06</td><td>3441.6</td></tr><tr><td>MWh</td><td>2478.5</td><td>Sat,_06/07</td><td>3532.7</td></tr><tr><td>MWh</td><td>2478.5</td><td>Sun,_06/08</td><td>2844.8</td></tr><tr><td>MWh</td><td>2478.5</td><td>Mon,_06/09</td><td>2962.9</td></tr><tr><td>MWh</td><td>2478.5</td><td>Tue,_06/10</td><td>3485.0</td></tr><tr><td>MWh</td><td>2478.5</td><td>Wed,_06/11</td><td>4037.0</td></tr><tr><td>10 - 11</td><td>EUR/MWh</td><td>Fri,_06/06</td><td>0.04</td></tr><tr><td>10 - 11</td><td>EUR/MWh</td><td>Sat,_06/07</td><td>13.71</td></tr><tr><td>10 - 11</td><td>EUR/MWh</td><td>Sun,_06/08</td><td>-2.0</td></tr><tr><td>10 - 11</td><td>EUR/MWh</td><td>Mon,_06/09</td><td>9.85</td></tr><tr><td>10 - 11</td><td>EUR/MWh</td><td>Tue,_06/10</td><td>23.09</td></tr><tr><td>10 - 11</td><td>EUR/MWh</td><td>Wed,_06/11</td><td>20.0</td></tr><tr><td>10 - 11</td><td>EUR/MWh</td><td>Thu,_06/12</td><td>0.01</td></tr><tr><td>MWh</td><td>2994.9</td><td>Fri,_06/06</td><td>2971.7</td></tr><tr><td>MWh</td><td>2994.9</td><td>Sat,_06/07</td><td>3555.5</td></tr><tr><td>MWh</td><td>2994.9</td><td>Sun,_06/08</td><td>2735.7</td></tr><tr><td>MWh</td><td>2994.9</td><td>Mon,_06/09</td><td>2761.3</td></tr><tr><td>MWh</td><td>2994.9</td><td>Tue,_06/10</td><td>3290.6</td></tr><tr><td>MWh</td><td>2994.9</td><td>Wed,_06/11</td><td>3782.1</td></tr><tr><td>11 - 12</td><td>EUR/MWh</td><td>Fri,_06/06</td><td>1.98</td></tr><tr><td>11 - 12</td><td>EUR/MWh</td><td>Sat,_06/07</td><td>9.44</td></tr><tr><td>11 - 12</td><td>EUR/MWh</td><td>Sun,_06/08</td><td>-0.01</td></tr><tr><td>11 - 12</td><td>EUR/MWh</td><td>Mon,_06/09</td><td>14.56</td></tr><tr><td>11 - 12</td><td>EUR/MWh</td><td>Tue,_06/10</td><td>8.75</td></tr><tr><td>11 - 12</td><td>EUR/MWh</td><td>Wed,_06/11</td><td>4.38</td></tr><tr><td>11 - 12</td><td>EUR/MWh</td><td>Thu,_06/12</td><td>7.0</td></tr><tr><td>MWh</td><td>3389.2</td><td>Fri,_06/06</td><td>2767.2</td></tr><tr><td>MWh</td><td>3389.2</td><td>Sat,_06/07</td><td>3942.3</td></tr><tr><td>MWh</td><td>3389.2</td><td>Sun,_06/08</td><td>3314.3</td></tr><tr><td>MWh</td><td>3389.2</td><td>Mon,_06/09</td><td>3945.8</td></tr><tr><td>MWh</td><td>3389.2</td><td>Tue,_06/10</td><td>3588.9</td></tr><tr><td>MWh</td><td>3389.2</td><td>Wed,_06/11</td><td>4066.6</td></tr><tr><td>12 - 13</td><td>EUR/MWh</td><td>Fri,_06/06</td><td>12.73</td></tr><tr><td>12 - 13</td><td>EUR/MWh</td><td>Sat,_06/07</td><td>1.19</td></tr><tr><td>12 - 13</td><td>EUR/MWh</td><td>Sun,_06/08</td><td>0.0</td></tr><tr><td>12 - 13</td><td>EUR/MWh</td><td>Mon,_06/09</td><td>12.57</td></tr><tr><td>12 - 13</td><td>EUR/MWh</td><td>Tue,_06/10</td><td>11.5</td></tr><tr><td>12 - 13</td><td>EUR/MWh</td><td>Wed,_06/11</td><td>8.36</td></tr><tr><td>12 - 13</td><td>EUR/MWh</td><td>Thu,_06/12</td><td>13.95</td></tr><tr><td>MWh</td><td>3183.8</td><td>Fri,_06/06</td><td>3302.7</td></tr><tr><td>MWh</td><td>3183.8</td><td>Sat,_06/07</td><td>3976.1</td></tr><tr><td>MWh</td><td>3183.8</td><td>Sun,_06/08</td><td>3501.6</td></tr><tr><td>MWh</td><td>3183.8</td><td>Mon,_06/09</td><td>3996.0</td></tr><tr><td>MWh</td><td>3183.8</td><td>Tue,_06/10</td><td>3558.0</td></tr><tr><td>MWh</td><td>3183.8</td><td>Wed,_06/11</td><td>3791.6</td></tr><tr><td>13 - 14</td><td>EUR/MWh</td><td>Fri,_06/06</td><td>28.47</td></tr><tr><td>13 - 14</td><td>EUR/MWh</td><td>Sat,_06/07</td><td>-0.01</td></tr><tr><td>13 - 14</td><td>EUR/MWh</td><td>Sun,_06/08</td><td>0.0</td></tr><tr><td>13 - 14</td><td>EUR/MWh</td><td>Mon,_06/09</td><td>10.7</td></tr><tr><td>13 - 14</td><td>EUR/MWh</td><td>Tue,_06/10</td><td>14.05</td></tr><tr><td>13 - 14</td><td>EUR/MWh</td><td>Wed,_06/11</td><td>10.23</td></tr><tr><td>13 - 14</td><td>EUR/MWh</td><td>Thu,_06/12</td><td>15.0</td></tr><tr><td>MWh</td><td>2934.8</td><td>Fri,_06/06</td><td>3880.3</td></tr><tr><td>MWh</td><td>2934.8</td><td>Sat,_06/07</td><td>3958.1</td></tr><tr><td>MWh</td><td>2934.8</td><td>Sun,_06/08</td><td>3731.8</td></tr><tr><td>MWh</td><td>2934.8</td><td>Mon,_06/09</td><td>4049.9</td></tr><tr><td>MWh</td><td>2934.8</td><td>Tue,_06/10</td><td>3625.4</td></tr><tr><td>MWh</td><td>2934.8</td><td>Wed,_06/11</td><td>4101.2</td></tr><tr><td>14 - 15</td><td>EUR/MWh</td><td>Fri,_06/06</td><td>24.7</td></tr><tr><td>14 - 15</td><td>EUR/MWh</td><td>Sat,_06/07</td><td>-0.02</td></tr><tr><td>14 - 15</td><td>EUR/MWh</td><td>Sun,_06/08</td><td>0.0</td></tr><tr><td>14 - 15</td><td>EUR/MWh</td><td>Mon,_06/09</td><td>6.91</td></tr><tr><td>14 - 15</td><td>EUR/MWh</td><td>Tue,_06/10</td><td>30.39</td></tr><tr><td>14 - 15</td><td>EUR/MWh</td><td>Wed,_06/11</td><td>15.07</td></tr><tr><td>14 - 15</td><td>EUR/MWh</td><td>Thu,_06/12</td><td>31.86</td></tr><tr><td>MWh</td><td>2973.8</td><td>Fri,_06/06</td><td>3889.5</td></tr><tr><td>MWh</td><td>2973.8</td><td>Sat,_06/07</td><td>3986.9</td></tr><tr><td>MWh</td><td>2973.8</td><td>Sun,_06/08</td><td>3969.6</td></tr><tr><td>MWh</td><td>2973.8</td><td>Mon,_06/09</td><td>3657.4</td></tr><tr><td>MWh</td><td>2973.8</td><td>Tue,_06/10</td><td>3383.2</td></tr><tr><td>MWh</td><td>2973.8</td><td>Wed,_06/11</td><td>3992.2</td></tr><tr><td>15 - 16</td><td>EUR/MWh</td><td>Fri,_06/06</td><td>42.08</td></tr><tr><td>15 - 16</td><td>EUR/MWh</td><td>Sat,_06/07</td><td>-0.02</td></tr><tr><td>15 - 16</td><td>EUR/MWh</td><td>Sun,_06/08</td><td>0.59</td></tr><tr><td>15 - 16</td><td>EUR/MWh</td><td>Mon,_06/09</td><td>7.05</td></tr><tr><td>15 - 16</td><td>EUR/MWh</td><td>Tue,_06/10</td><td>62.32</td></tr><tr><td>15 - 16</td><td>EUR/MWh</td><td>Wed,_06/11</td><td>33.52</td></tr><tr><td>15 - 16</td><td>EUR/MWh</td><td>Thu,_06/12</td><td>40.34</td></tr><tr><td>MWh</td><td>2918.7</td><td>Fri,_06/06</td><td>3841.1</td></tr><tr><td>MWh</td><td>2918.7</td><td>Sat,_06/07</td><td>3948.8</td></tr><tr><td>MWh</td><td>2918.7</td><td>Sun,_06/08</td><td>3970.7</td></tr><tr><td>MWh</td><td>2918.7</td><td>Mon,_06/09</td><td>2734.8</td></tr><tr><td>MWh</td><td>2918.7</td><td>Tue,_06/10</td><td>2815.1</td></tr><tr><td>MWh</td><td>2918.7</td><td>Wed,_06/11</td><td>3602.4</td></tr><tr><td>16 - 17</td><td>EUR/MWh</td><td>Fri,_06/06</td><td>82.1</td></tr><tr><td>16 - 17</td><td>EUR/MWh</td><td>Sat,_06/07</td><td>5.09</td></tr><tr><td>16 - 17</td><td>EUR/MWh</td><td>Sun,_06/08</td><td>14.45</td></tr><tr><td>16 - 17</td><td>EUR/MWh</td><td>Mon,_06/09</td><td>10.0</td></tr><tr><td>16 - 17</td><td>EUR/MWh</td><td>Tue,_06/10</td><td>89.13</td></tr><tr><td>16 - 17</td><td>EUR/MWh</td><td>Wed,_06/11</td><td>79.2</td></tr><tr><td>16 - 17</td><td>EUR/MWh</td><td>Thu,_06/12</td><td>63.75</td></tr><tr><td>MWh</td><td>2780.9</td><td>Fri,_06/06</td><td>3637.1</td></tr><tr><td>MWh</td><td>2780.9</td><td>Sat,_06/07</td><td>3624.1</td></tr><tr><td>MWh</td><td>2780.9</td><td>Sun,_06/08</td><td>3652.0</td></tr><tr><td>MWh</td><td>2780.9</td><td>Mon,_06/09</td><td>2331.2</td></tr><tr><td>MWh</td><td>2780.9</td><td>Tue,_06/10</td><td>2730.0</td></tr><tr><td>MWh</td><td>2780.9</td><td>Wed,_06/11</td><td>2892.3</td></tr><tr><td>17 - 18</td><td>EUR/MWh</td><td>Fri,_06/06</td><td>138.02</td></tr><tr><td>17 - 18</td><td>EUR/MWh</td><td>Sat,_06/07</td><td>89.21</td></tr><tr><td>17 - 18</td><td>EUR/MWh</td><td>Sun,_06/08</td><td>91.58</td></tr><tr><td>17 - 18</td><td>EUR/MWh</td><td>Mon,_06/09</td><td>87.84</td></tr><tr><td>17 - 18</td><td>EUR/MWh</td><td>Tue,_06/10</td><td>105.72</td></tr><tr><td>17 - 18</td><td>EUR/MWh</td><td>Wed,_06/11</td><td>104.96</td></tr><tr><td>17 - 18</td><td>EUR/MWh</td><td>Thu,_06/12</td><td>91.33</td></tr><tr><td>MWh</td><td>2644.7</td><td>Fri,_06/06</td><td>2668.2</td></tr><tr><td>MWh</td><td>2644.7</td><td>Sat,_06/07</td><td>2584.9</td></tr><tr><td>MWh</td><td>2644.7</td><td>Sun,_06/08</td><td>3015.3</td></tr><tr><td>MWh</td><td>2644.7</td><td>Mon,_06/09</td><td>2514.9</td></tr><tr><td>MWh</td><td>2644.7</td><td>Tue,_06/10</td><td>2599.6</td></tr><tr><td>MWh</td><td>2644.7</td><td>Wed,_06/11</td><td>2721.2</td></tr><tr><td>18 - 19</td><td>EUR/MWh</td><td>Fri,_06/06</td><td>211.38</td></tr><tr><td>18 - 19</td><td>EUR/MWh</td><td>Sat,_06/07</td><td>135.63</td></tr><tr><td>18 - 19</td><td>EUR/MWh</td><td>Sun,_06/08</td><td>157.8</td></tr><tr><td>18 - 19</td><td>EUR/MWh</td><td>Mon,_06/09</td><td>122.93</td></tr><tr><td>18 - 19</td><td>EUR/MWh</td><td>Tue,_06/10</td><td>136.56</td></tr><tr><td>18 - 19</td><td>EUR/MWh</td><td>Wed,_06/11</td><td>141.78</td></tr><tr><td>18 - 19</td><td>EUR/MWh</td><td>Thu,_06/12</td><td>130.91</td></tr><tr><td>MWh</td><td>2785.3</td><td>Fri,_06/06</td><td>1994.8</td></tr><tr><td>MWh</td><td>2785.3</td><td>Sat,_06/07</td><td>1931.3</td></tr><tr><td>MWh</td><td>2785.3</td><td>Sun,_06/08</td><td>2389.1</td></tr><tr><td>MWh</td><td>2785.3</td><td>Mon,_06/09</td><td>2651.3</td></tr><tr><td>MWh</td><td>2785.3</td><td>Tue,_06/10</td><td>2332.9</td></tr><tr><td>MWh</td><td>2785.3</td><td>Wed,_06/11</td><td>3108.0</td></tr><tr><td>19 - 20</td><td>EUR/MWh</td><td>Fri,_06/06</td><td>146.92</td></tr><tr><td>19 - 20</td><td>EUR/MWh</td><td>Sat,_06/07</td><td>196.03</td></tr><tr><td>19 - 20</td><td>EUR/MWh</td><td>Sun,_06/08</td><td>151.36</td></tr><tr><td>19 - 20</td><td>EUR/MWh</td><td>Mon,_06/09</td><td>160.22</td></tr><tr><td>19 - 20</td><td>EUR/MWh</td><td>Tue,_06/10</td><td>201.98</td></tr><tr><td>19 - 20</td><td>EUR/MWh</td><td>Wed,_06/11</td><td>150.59</td></tr><tr><td>19 - 20</td><td>EUR/MWh</td><td>Thu,_06/12</td><td>189.44</td></tr><tr><td>MWh</td><td>2485.6</td><td>Fri,_06/06</td><td>2745.8</td></tr><tr><td>MWh</td><td>2485.6</td><td>Sat,_06/07</td><td>2103.6</td></tr><tr><td>MWh</td><td>2485.6</td><td>Sun,_06/08</td><td>2660.1</td></tr><tr><td>MWh</td><td>2485.6</td><td>Mon,_06/09</td><td>2775.0</td></tr><tr><td>MWh</td><td>2485.6</td><td>Tue,_06/10</td><td>2668.5</td></tr><tr><td>MWh</td><td>2485.6</td><td>Wed,_06/11</td><td>3727.5</td></tr><tr><td>20 - 21</td><td>EUR/MWh</td><td>Fri,_06/06</td><td>190.19</td></tr><tr><td>20 - 21</td><td>EUR/MWh</td><td>Sat,_06/07</td><td>225.36</td></tr><tr><td>20 - 21</td><td>EUR/MWh</td><td>Sun,_06/08</td><td>177.62</td></tr><tr><td>20 - 21</td><td>EUR/MWh</td><td>Mon,_06/09</td><td>226.02</td></tr><tr><td>20 - 21</td><td>EUR/MWh</td><td>Tue,_06/10</td><td>233.45</td></tr><tr><td>20 - 21</td><td>EUR/MWh</td><td>Wed,_06/11</td><td>219.16</td></tr><tr><td>20 - 21</td><td>EUR/MWh</td><td>Thu,_06/12</td><td>220.26</td></tr><tr><td>MWh</td><td>2535</td><td>Fri,_06/06</td><td>2907.7</td></tr><tr><td>MWh</td><td>2535</td><td>Sat,_06/07</td><td>2086.4</td></tr><tr><td>MWh</td><td>2535</td><td>Sun,_06/08</td><td>2788.0</td></tr><tr><td>MWh</td><td>2535</td><td>Mon,_06/09</td><td>2763.3</td></tr><tr><td>MWh</td><td>2535</td><td>Tue,_06/10</td><td>2725.4</td></tr><tr><td>MWh</td><td>2535</td><td>Wed,_06/11</td><td>3606.4</td></tr><tr><td>21 - 22</td><td>EUR/MWh</td><td>Fri,_06/06</td><td>136.97</td></tr><tr><td>21 - 22</td><td>EUR/MWh</td><td>Sat,_06/07</td><td>163.26</td></tr><tr><td>21 - 22</td><td>EUR/MWh</td><td>Sun,_06/08</td><td>159.02</td></tr><tr><td>21 - 22</td><td>EUR/MWh</td><td>Mon,_06/09</td><td>163.47</td></tr><tr><td>21 - 22</td><td>EUR/MWh</td><td>Tue,_06/10</td><td>139.09</td></tr><tr><td>21 - 22</td><td>EUR/MWh</td><td>Wed,_06/11</td><td>185.7</td></tr><tr><td>21 - 22</td><td>EUR/MWh</td><td>Thu,_06/12</td><td>152.25</td></tr><tr><td>MWh</td><td>2559.2</td><td>Fri,_06/06</td><td>2862.9</td></tr><tr><td>MWh</td><td>2559.2</td><td>Sat,_06/07</td><td>2219.1</td></tr><tr><td>MWh</td><td>2559.2</td><td>Sun,_06/08</td><td>2858.4</td></tr><tr><td>MWh</td><td>2559.2</td><td>Mon,_06/09</td><td>2671.0</td></tr><tr><td>MWh</td><td>2559.2</td><td>Tue,_06/10</td><td>2979.1</td></tr><tr><td>MWh</td><td>2559.2</td><td>Wed,_06/11</td><td>2872.9</td></tr><tr><td>22 - 23</td><td>EUR/MWh</td><td>Fri,_06/06</td><td>125.37</td></tr><tr><td>22 - 23</td><td>EUR/MWh</td><td>Sat,_06/07</td><td>123.32</td></tr><tr><td>22 - 23</td><td>EUR/MWh</td><td>Sun,_06/08</td><td>124.71</td></tr><tr><td>22 - 23</td><td>EUR/MWh</td><td>Mon,_06/09</td><td>124.85</td></tr><tr><td>22 - 23</td><td>EUR/MWh</td><td>Tue,_06/10</td><td>102.18</td></tr><tr><td>22 - 23</td><td>EUR/MWh</td><td>Wed,_06/11</td><td>123.18</td></tr><tr><td>22 - 23</td><td>EUR/MWh</td><td>Thu,_06/12</td><td>127.74</td></tr><tr><td>MWh</td><td>2542</td><td>Fri,_06/06</td><td>2139.3</td></tr><tr><td>MWh</td><td>2542</td><td>Sat,_06/07</td><td>2322.1</td></tr><tr><td>MWh</td><td>2542</td><td>Sun,_06/08</td><td>2312.8</td></tr><tr><td>MWh</td><td>2542</td><td>Mon,_06/09</td><td>2470.3</td></tr><tr><td>MWh</td><td>2542</td><td>Tue,_06/10</td><td>2612.1</td></tr><tr><td>MWh</td><td>2542</td><td>Wed,_06/11</td><td>2679.5</td></tr><tr><td>23 - 24</td><td>EUR/MWh</td><td>Fri,_06/06</td><td>109.17</td></tr><tr><td>23 - 24</td><td>EUR/MWh</td><td>Sat,_06/07</td><td>118.45</td></tr><tr><td>23 - 24</td><td>EUR/MWh</td><td>Sun,_06/08</td><td>100.94</td></tr><tr><td>23 - 24</td><td>EUR/MWh</td><td>Mon,_06/09</td><td>106.28</td></tr><tr><td>23 - 24</td><td>EUR/MWh</td><td>Tue,_06/10</td><td>97.75</td></tr><tr><td>23 - 24</td><td>EUR/MWh</td><td>Wed,_06/11</td><td>103.67</td></tr><tr><td>23 - 24</td><td>EUR/MWh</td><td>Thu,_06/12</td><td>107.26</td></tr><tr><td>MWh</td><td>2520.4</td><td>Fri,_06/06</td><td>2235.2</td></tr><tr><td>MWh</td><td>2520.4</td><td>Sat,_06/07</td><td>2985.5</td></tr><tr><td>MWh</td><td>2520.4</td><td>Sun,_06/08</td><td>2217.3</td></tr><tr><td>MWh</td><td>2520.4</td><td>Mon,_06/09</td><td>2413.2</td></tr><tr><td>MWh</td><td>2520.4</td><td>Tue,_06/10</td><td>3198.5</td></tr><tr><td>MWh</td><td>2520.4</td><td>Wed,_06/11</td><td>3003.0</td></tr></tbody></table></div>"
      ]
     },
     "metadata": {
      "application/vnd.databricks.v1+output": {
       "addedWidgets": {},
       "aggData": [],
       "aggError": "",
       "aggOverflow": false,
       "aggSchema": [],
       "aggSeriesLimitReached": false,
       "aggType": "",
       "arguments": {},
       "columnCustomDisplayInfos": {},
       "data": [
        [
         "0 - 1",
         "EUR/MWh",
         "Fri,_06/06",
         103.57
        ],
        [
         "0 - 1",
         "EUR/MWh",
         "Sat,_06/07",
         103.83
        ],
        [
         "0 - 1",
         "EUR/MWh",
         "Sun,_06/08",
         96.01
        ],
        [
         "0 - 1",
         "EUR/MWh",
         "Mon,_06/09",
         99.12
        ],
        [
         "0 - 1",
         "EUR/MWh",
         "Tue,_06/10",
         89.91
        ],
        [
         "0 - 1",
         "EUR/MWh",
         "Wed,_06/11",
         81.11
        ],
        [
         "0 - 1",
         "EUR/MWh",
         "Thu,_06/12",
         107.36
        ],
        [
         "MWh",
         "2571.2",
         "Fri,_06/06",
         2284.9
        ],
        [
         "MWh",
         "2571.2",
         "Sat,_06/07",
         2217.9
        ],
        [
         "MWh",
         "2571.2",
         "Sun,_06/08",
         2201.8
        ],
        [
         "MWh",
         "2571.2",
         "Mon,_06/09",
         2730.2
        ],
        [
         "MWh",
         "2571.2",
         "Tue,_06/10",
         2249.4
        ],
        [
         "MWh",
         "2571.2",
         "Wed,_06/11",
         2658.9
        ],
        [
         "1 - 2",
         "EUR/MWh",
         "Fri,_06/06",
         120.2
        ],
        [
         "1 - 2",
         "EUR/MWh",
         "Sat,_06/07",
         99.5
        ],
        [
         "1 - 2",
         "EUR/MWh",
         "Sun,_06/08",
         88.63
        ],
        [
         "1 - 2",
         "EUR/MWh",
         "Mon,_06/09",
         94.51
        ],
        [
         "1 - 2",
         "EUR/MWh",
         "Tue,_06/10",
         81.81
        ],
        [
         "1 - 2",
         "EUR/MWh",
         "Wed,_06/11",
         74.99
        ],
        [
         "1 - 2",
         "EUR/MWh",
         "Thu,_06/12",
         90.0
        ],
        [
         "MWh",
         "2810",
         "Fri,_06/06",
         2192.5
        ],
        [
         "MWh",
         "2810",
         "Sat,_06/07",
         2769.7
        ],
        [
         "MWh",
         "2810",
         "Sun,_06/08",
         2313.1
        ],
        [
         "MWh",
         "2810",
         "Mon,_06/09",
         2938.1
        ],
        [
         "MWh",
         "2810",
         "Tue,_06/10",
         2224.0
        ],
        [
         "MWh",
         "2810",
         "Wed,_06/11",
         3179.0
        ],
        [
         "2 - 3",
         "EUR/MWh",
         "Fri,_06/06",
         108.37
        ],
        [
         "2 - 3",
         "EUR/MWh",
         "Sat,_06/07",
         96.12
        ],
        [
         "2 - 3",
         "EUR/MWh",
         "Sun,_06/08",
         86.39
        ],
        [
         "2 - 3",
         "EUR/MWh",
         "Mon,_06/09",
         87.49
        ],
        [
         "2 - 3",
         "EUR/MWh",
         "Tue,_06/10",
         71.07
        ],
        [
         "2 - 3",
         "EUR/MWh",
         "Wed,_06/11",
         68.99
        ],
        [
         "2 - 3",
         "EUR/MWh",
         "Thu,_06/12",
         84.77
        ],
        [
         "MWh",
         "2604.8",
         "Fri,_06/06",
         2282.5
        ],
        [
         "MWh",
         "2604.8",
         "Sat,_06/07",
         2907.4
        ],
        [
         "MWh",
         "2604.8",
         "Sun,_06/08",
         2737.7
        ],
        [
         "MWh",
         "2604.8",
         "Mon,_06/09",
         2676.3
        ],
        [
         "MWh",
         "2604.8",
         "Tue,_06/10",
         2130.1
        ],
        [
         "MWh",
         "2604.8",
         "Wed,_06/11",
         3264.6
        ],
        [
         "3 - 4",
         "EUR/MWh",
         "Fri,_06/06",
         102.2
        ],
        [
         "3 - 4",
         "EUR/MWh",
         "Sat,_06/07",
         96.24
        ],
        [
         "3 - 4",
         "EUR/MWh",
         "Sun,_06/08",
         84.11
        ],
        [
         "3 - 4",
         "EUR/MWh",
         "Mon,_06/09",
         85.21
        ],
        [
         "3 - 4",
         "EUR/MWh",
         "Tue,_06/10",
         61.82
        ],
        [
         "3 - 4",
         "EUR/MWh",
         "Wed,_06/11",
         72.64
        ],
        [
         "3 - 4",
         "EUR/MWh",
         "Thu,_06/12",
         85.12
        ],
        [
         "MWh",
         "2509.7",
         "Fri,_06/06",
         2201.8
        ],
        [
         "MWh",
         "2509.7",
         "Sat,_06/07",
         3118.0
        ],
        [
         "MWh",
         "2509.7",
         "Sun,_06/08",
         3014.7
        ],
        [
         "MWh",
         "2509.7",
         "Mon,_06/09",
         2448.4
        ],
        [
         "MWh",
         "2509.7",
         "Tue,_06/10",
         2178.4
        ],
        [
         "MWh",
         "2509.7",
         "Wed,_06/11",
         3131.1
        ],
        [
         "4 - 5",
         "EUR/MWh",
         "Fri,_06/06",
         108.5
        ],
        [
         "4 - 5",
         "EUR/MWh",
         "Sat,_06/07",
         91.51
        ],
        [
         "4 - 5",
         "EUR/MWh",
         "Sun,_06/08",
         78.96
        ],
        [
         "4 - 5",
         "EUR/MWh",
         "Mon,_06/09",
         87.33
        ],
        [
         "4 - 5",
         "EUR/MWh",
         "Tue,_06/10",
         56.22
        ],
        [
         "4 - 5",
         "EUR/MWh",
         "Wed,_06/11",
         73.35
        ],
        [
         "4 - 5",
         "EUR/MWh",
         "Thu,_06/12",
         89.35
        ],
        [
         "MWh",
         "2418.1",
         "Fri,_06/06",
         2284.8
        ],
        [
         "MWh",
         "2418.1",
         "Sat,_06/07",
         3052.2
        ],
        [
         "MWh",
         "2418.1",
         "Sun,_06/08",
         2821.2
        ],
        [
         "MWh",
         "2418.1",
         "Mon,_06/09",
         2509.4
        ],
        [
         "MWh",
         "2418.1",
         "Tue,_06/10",
         2214.8
        ],
        [
         "MWh",
         "2418.1",
         "Wed,_06/11",
         2621.6
        ],
        [
         "5 - 6",
         "EUR/MWh",
         "Fri,_06/06",
         98.25
        ],
        [
         "5 - 6",
         "EUR/MWh",
         "Sat,_06/07",
         90.21
        ],
        [
         "5 - 6",
         "EUR/MWh",
         "Sun,_06/08",
         65.93
        ],
        [
         "5 - 6",
         "EUR/MWh",
         "Mon,_06/09",
         91.81
        ],
        [
         "5 - 6",
         "EUR/MWh",
         "Tue,_06/10",
         70.35
        ],
        [
         "5 - 6",
         "EUR/MWh",
         "Wed,_06/11",
         87.65
        ],
        [
         "5 - 6",
         "EUR/MWh",
         "Thu,_06/12",
         96.89
        ],
        [
         "MWh",
         "2526",
         "Fri,_06/06",
         2118.5
        ],
        [
         "MWh",
         "2526",
         "Sat,_06/07",
         2925.3
        ],
        [
         "MWh",
         "2526",
         "Sun,_06/08",
         2582.4
        ],
        [
         "MWh",
         "2526",
         "Mon,_06/09",
         2499.1
        ],
        [
         "MWh",
         "2526",
         "Tue,_06/10",
         2333.3
        ],
        [
         "MWh",
         "2526",
         "Wed,_06/11",
         2424.8
        ],
        [
         "6 - 7",
         "EUR/MWh",
         "Fri,_06/06",
         107.69
        ],
        [
         "6 - 7",
         "EUR/MWh",
         "Sat,_06/07",
         81.23
        ],
        [
         "6 - 7",
         "EUR/MWh",
         "Sun,_06/08",
         45.44
        ],
        [
         "6 - 7",
         "EUR/MWh",
         "Mon,_06/09",
         93.32
        ],
        [
         "6 - 7",
         "EUR/MWh",
         "Tue,_06/10",
         81.73
        ],
        [
         "6 - 7",
         "EUR/MWh",
         "Wed,_06/11",
         109.64
        ],
        [
         "6 - 7",
         "EUR/MWh",
         "Thu,_06/12",
         111.79
        ],
        [
         "MWh",
         "2336.4",
         "Fri,_06/06",
         1778.2
        ],
        [
         "MWh",
         "2336.4",
         "Sat,_06/07",
         2747.4
        ],
        [
         "MWh",
         "2336.4",
         "Sun,_06/08",
         2180.7
        ],
        [
         "MWh",
         "2336.4",
         "Mon,_06/09",
         2487.1
        ],
        [
         "MWh",
         "2336.4",
         "Tue,_06/10",
         2904.9
        ],
        [
         "MWh",
         "2336.4",
         "Wed,_06/11",
         3231.9
        ],
        [
         "7 - 8",
         "EUR/MWh",
         "Fri,_06/06",
         98.9
        ],
        [
         "7 - 8",
         "EUR/MWh",
         "Sat,_06/07",
         80.58
        ],
        [
         "7 - 8",
         "EUR/MWh",
         "Sun,_06/08",
         4.01
        ],
        [
         "7 - 8",
         "EUR/MWh",
         "Mon,_06/09",
         89.91
        ],
        [
         "7 - 8",
         "EUR/MWh",
         "Tue,_06/10",
         85.1
        ],
        [
         "7 - 8",
         "EUR/MWh",
         "Wed,_06/11",
         105.59
        ],
        [
         "7 - 8",
         "EUR/MWh",
         "Thu,_06/12",
         79.62
        ],
        [
         "MWh",
         "2441.9",
         "Fri,_06/06",
         2393.6
        ],
        [
         "MWh",
         "2441.9",
         "Sat,_06/07",
         2851.5
        ],
        [
         "MWh",
         "2441.9",
         "Sun,_06/08",
         2400.3
        ],
        [
         "MWh",
         "2441.9",
         "Mon,_06/09",
         3236.5
        ],
        [
         "MWh",
         "2441.9",
         "Tue,_06/10",
         3343.4
        ],
        [
         "MWh",
         "2441.9",
         "Wed,_06/11",
         3642.5
        ],
        [
         "8 - 9",
         "EUR/MWh",
         "Fri,_06/06",
         67.34
        ],
        [
         "8 - 9",
         "EUR/MWh",
         "Sat,_06/07",
         73.7
        ],
        [
         "8 - 9",
         "EUR/MWh",
         "Sun,_06/08",
         0.0
        ],
        [
         "8 - 9",
         "EUR/MWh",
         "Mon,_06/09",
         63.08
        ],
        [
         "8 - 9",
         "EUR/MWh",
         "Tue,_06/10",
         86.14
        ],
        [
         "8 - 9",
         "EUR/MWh",
         "Wed,_06/11",
         82.32
        ],
        [
         "8 - 9",
         "EUR/MWh",
         "Thu,_06/12",
         77.27
        ],
        [
         "MWh",
         "2480.6",
         "Fri,_06/06",
         3146.4
        ],
        [
         "MWh",
         "2480.6",
         "Sat,_06/07",
         2724.0
        ],
        [
         "MWh",
         "2480.6",
         "Sun,_06/08",
         2892.0
        ],
        [
         "MWh",
         "2480.6",
         "Mon,_06/09",
         3105.8
        ],
        [
         "MWh",
         "2480.6",
         "Tue,_06/10",
         3209.6
        ],
        [
         "MWh",
         "2480.6",
         "Wed,_06/11",
         3667.7
        ],
        [
         "9 - 10",
         "EUR/MWh",
         "Fri,_06/06",
         8.44
        ],
        [
         "9 - 10",
         "EUR/MWh",
         "Sat,_06/07",
         59.48
        ],
        [
         "9 - 10",
         "EUR/MWh",
         "Sun,_06/08",
         -0.5
        ],
        [
         "9 - 10",
         "EUR/MWh",
         "Mon,_06/09",
         16.3
        ],
        [
         "9 - 10",
         "EUR/MWh",
         "Tue,_06/10",
         65.81
        ],
        [
         "9 - 10",
         "EUR/MWh",
         "Wed,_06/11",
         59.79
        ],
        [
         "9 - 10",
         "EUR/MWh",
         "Thu,_06/12",
         36.67
        ],
        [
         "MWh",
         "2478.5",
         "Fri,_06/06",
         3441.6
        ],
        [
         "MWh",
         "2478.5",
         "Sat,_06/07",
         3532.7
        ],
        [
         "MWh",
         "2478.5",
         "Sun,_06/08",
         2844.8
        ],
        [
         "MWh",
         "2478.5",
         "Mon,_06/09",
         2962.9
        ],
        [
         "MWh",
         "2478.5",
         "Tue,_06/10",
         3485.0
        ],
        [
         "MWh",
         "2478.5",
         "Wed,_06/11",
         4037.0
        ],
        [
         "10 - 11",
         "EUR/MWh",
         "Fri,_06/06",
         0.04
        ],
        [
         "10 - 11",
         "EUR/MWh",
         "Sat,_06/07",
         13.71
        ],
        [
         "10 - 11",
         "EUR/MWh",
         "Sun,_06/08",
         -2.0
        ],
        [
         "10 - 11",
         "EUR/MWh",
         "Mon,_06/09",
         9.85
        ],
        [
         "10 - 11",
         "EUR/MWh",
         "Tue,_06/10",
         23.09
        ],
        [
         "10 - 11",
         "EUR/MWh",
         "Wed,_06/11",
         20.0
        ],
        [
         "10 - 11",
         "EUR/MWh",
         "Thu,_06/12",
         0.01
        ],
        [
         "MWh",
         "2994.9",
         "Fri,_06/06",
         2971.7
        ],
        [
         "MWh",
         "2994.9",
         "Sat,_06/07",
         3555.5
        ],
        [
         "MWh",
         "2994.9",
         "Sun,_06/08",
         2735.7
        ],
        [
         "MWh",
         "2994.9",
         "Mon,_06/09",
         2761.3
        ],
        [
         "MWh",
         "2994.9",
         "Tue,_06/10",
         3290.6
        ],
        [
         "MWh",
         "2994.9",
         "Wed,_06/11",
         3782.1
        ],
        [
         "11 - 12",
         "EUR/MWh",
         "Fri,_06/06",
         1.98
        ],
        [
         "11 - 12",
         "EUR/MWh",
         "Sat,_06/07",
         9.44
        ],
        [
         "11 - 12",
         "EUR/MWh",
         "Sun,_06/08",
         -0.01
        ],
        [
         "11 - 12",
         "EUR/MWh",
         "Mon,_06/09",
         14.56
        ],
        [
         "11 - 12",
         "EUR/MWh",
         "Tue,_06/10",
         8.75
        ],
        [
         "11 - 12",
         "EUR/MWh",
         "Wed,_06/11",
         4.38
        ],
        [
         "11 - 12",
         "EUR/MWh",
         "Thu,_06/12",
         7.0
        ],
        [
         "MWh",
         "3389.2",
         "Fri,_06/06",
         2767.2
        ],
        [
         "MWh",
         "3389.2",
         "Sat,_06/07",
         3942.3
        ],
        [
         "MWh",
         "3389.2",
         "Sun,_06/08",
         3314.3
        ],
        [
         "MWh",
         "3389.2",
         "Mon,_06/09",
         3945.8
        ],
        [
         "MWh",
         "3389.2",
         "Tue,_06/10",
         3588.9
        ],
        [
         "MWh",
         "3389.2",
         "Wed,_06/11",
         4066.6
        ],
        [
         "12 - 13",
         "EUR/MWh",
         "Fri,_06/06",
         12.73
        ],
        [
         "12 - 13",
         "EUR/MWh",
         "Sat,_06/07",
         1.19
        ],
        [
         "12 - 13",
         "EUR/MWh",
         "Sun,_06/08",
         0.0
        ],
        [
         "12 - 13",
         "EUR/MWh",
         "Mon,_06/09",
         12.57
        ],
        [
         "12 - 13",
         "EUR/MWh",
         "Tue,_06/10",
         11.5
        ],
        [
         "12 - 13",
         "EUR/MWh",
         "Wed,_06/11",
         8.36
        ],
        [
         "12 - 13",
         "EUR/MWh",
         "Thu,_06/12",
         13.95
        ],
        [
         "MWh",
         "3183.8",
         "Fri,_06/06",
         3302.7
        ],
        [
         "MWh",
         "3183.8",
         "Sat,_06/07",
         3976.1
        ],
        [
         "MWh",
         "3183.8",
         "Sun,_06/08",
         3501.6
        ],
        [
         "MWh",
         "3183.8",
         "Mon,_06/09",
         3996.0
        ],
        [
         "MWh",
         "3183.8",
         "Tue,_06/10",
         3558.0
        ],
        [
         "MWh",
         "3183.8",
         "Wed,_06/11",
         3791.6
        ],
        [
         "13 - 14",
         "EUR/MWh",
         "Fri,_06/06",
         28.47
        ],
        [
         "13 - 14",
         "EUR/MWh",
         "Sat,_06/07",
         -0.01
        ],
        [
         "13 - 14",
         "EUR/MWh",
         "Sun,_06/08",
         0.0
        ],
        [
         "13 - 14",
         "EUR/MWh",
         "Mon,_06/09",
         10.7
        ],
        [
         "13 - 14",
         "EUR/MWh",
         "Tue,_06/10",
         14.05
        ],
        [
         "13 - 14",
         "EUR/MWh",
         "Wed,_06/11",
         10.23
        ],
        [
         "13 - 14",
         "EUR/MWh",
         "Thu,_06/12",
         15.0
        ],
        [
         "MWh",
         "2934.8",
         "Fri,_06/06",
         3880.3
        ],
        [
         "MWh",
         "2934.8",
         "Sat,_06/07",
         3958.1
        ],
        [
         "MWh",
         "2934.8",
         "Sun,_06/08",
         3731.8
        ],
        [
         "MWh",
         "2934.8",
         "Mon,_06/09",
         4049.9
        ],
        [
         "MWh",
         "2934.8",
         "Tue,_06/10",
         3625.4
        ],
        [
         "MWh",
         "2934.8",
         "Wed,_06/11",
         4101.2
        ],
        [
         "14 - 15",
         "EUR/MWh",
         "Fri,_06/06",
         24.7
        ],
        [
         "14 - 15",
         "EUR/MWh",
         "Sat,_06/07",
         -0.02
        ],
        [
         "14 - 15",
         "EUR/MWh",
         "Sun,_06/08",
         0.0
        ],
        [
         "14 - 15",
         "EUR/MWh",
         "Mon,_06/09",
         6.91
        ],
        [
         "14 - 15",
         "EUR/MWh",
         "Tue,_06/10",
         30.39
        ],
        [
         "14 - 15",
         "EUR/MWh",
         "Wed,_06/11",
         15.07
        ],
        [
         "14 - 15",
         "EUR/MWh",
         "Thu,_06/12",
         31.86
        ],
        [
         "MWh",
         "2973.8",
         "Fri,_06/06",
         3889.5
        ],
        [
         "MWh",
         "2973.8",
         "Sat,_06/07",
         3986.9
        ],
        [
         "MWh",
         "2973.8",
         "Sun,_06/08",
         3969.6
        ],
        [
         "MWh",
         "2973.8",
         "Mon,_06/09",
         3657.4
        ],
        [
         "MWh",
         "2973.8",
         "Tue,_06/10",
         3383.2
        ],
        [
         "MWh",
         "2973.8",
         "Wed,_06/11",
         3992.2
        ],
        [
         "15 - 16",
         "EUR/MWh",
         "Fri,_06/06",
         42.08
        ],
        [
         "15 - 16",
         "EUR/MWh",
         "Sat,_06/07",
         -0.02
        ],
        [
         "15 - 16",
         "EUR/MWh",
         "Sun,_06/08",
         0.59
        ],
        [
         "15 - 16",
         "EUR/MWh",
         "Mon,_06/09",
         7.05
        ],
        [
         "15 - 16",
         "EUR/MWh",
         "Tue,_06/10",
         62.32
        ],
        [
         "15 - 16",
         "EUR/MWh",
         "Wed,_06/11",
         33.52
        ],
        [
         "15 - 16",
         "EUR/MWh",
         "Thu,_06/12",
         40.34
        ],
        [
         "MWh",
         "2918.7",
         "Fri,_06/06",
         3841.1
        ],
        [
         "MWh",
         "2918.7",
         "Sat,_06/07",
         3948.8
        ],
        [
         "MWh",
         "2918.7",
         "Sun,_06/08",
         3970.7
        ],
        [
         "MWh",
         "2918.7",
         "Mon,_06/09",
         2734.8
        ],
        [
         "MWh",
         "2918.7",
         "Tue,_06/10",
         2815.1
        ],
        [
         "MWh",
         "2918.7",
         "Wed,_06/11",
         3602.4
        ],
        [
         "16 - 17",
         "EUR/MWh",
         "Fri,_06/06",
         82.1
        ],
        [
         "16 - 17",
         "EUR/MWh",
         "Sat,_06/07",
         5.09
        ],
        [
         "16 - 17",
         "EUR/MWh",
         "Sun,_06/08",
         14.45
        ],
        [
         "16 - 17",
         "EUR/MWh",
         "Mon,_06/09",
         10.0
        ],
        [
         "16 - 17",
         "EUR/MWh",
         "Tue,_06/10",
         89.13
        ],
        [
         "16 - 17",
         "EUR/MWh",
         "Wed,_06/11",
         79.2
        ],
        [
         "16 - 17",
         "EUR/MWh",
         "Thu,_06/12",
         63.75
        ],
        [
         "MWh",
         "2780.9",
         "Fri,_06/06",
         3637.1
        ],
        [
         "MWh",
         "2780.9",
         "Sat,_06/07",
         3624.1
        ],
        [
         "MWh",
         "2780.9",
         "Sun,_06/08",
         3652.0
        ],
        [
         "MWh",
         "2780.9",
         "Mon,_06/09",
         2331.2
        ],
        [
         "MWh",
         "2780.9",
         "Tue,_06/10",
         2730.0
        ],
        [
         "MWh",
         "2780.9",
         "Wed,_06/11",
         2892.3
        ],
        [
         "17 - 18",
         "EUR/MWh",
         "Fri,_06/06",
         138.02
        ],
        [
         "17 - 18",
         "EUR/MWh",
         "Sat,_06/07",
         89.21
        ],
        [
         "17 - 18",
         "EUR/MWh",
         "Sun,_06/08",
         91.58
        ],
        [
         "17 - 18",
         "EUR/MWh",
         "Mon,_06/09",
         87.84
        ],
        [
         "17 - 18",
         "EUR/MWh",
         "Tue,_06/10",
         105.72
        ],
        [
         "17 - 18",
         "EUR/MWh",
         "Wed,_06/11",
         104.96
        ],
        [
         "17 - 18",
         "EUR/MWh",
         "Thu,_06/12",
         91.33
        ],
        [
         "MWh",
         "2644.7",
         "Fri,_06/06",
         2668.2
        ],
        [
         "MWh",
         "2644.7",
         "Sat,_06/07",
         2584.9
        ],
        [
         "MWh",
         "2644.7",
         "Sun,_06/08",
         3015.3
        ],
        [
         "MWh",
         "2644.7",
         "Mon,_06/09",
         2514.9
        ],
        [
         "MWh",
         "2644.7",
         "Tue,_06/10",
         2599.6
        ],
        [
         "MWh",
         "2644.7",
         "Wed,_06/11",
         2721.2
        ],
        [
         "18 - 19",
         "EUR/MWh",
         "Fri,_06/06",
         211.38
        ],
        [
         "18 - 19",
         "EUR/MWh",
         "Sat,_06/07",
         135.63
        ],
        [
         "18 - 19",
         "EUR/MWh",
         "Sun,_06/08",
         157.8
        ],
        [
         "18 - 19",
         "EUR/MWh",
         "Mon,_06/09",
         122.93
        ],
        [
         "18 - 19",
         "EUR/MWh",
         "Tue,_06/10",
         136.56
        ],
        [
         "18 - 19",
         "EUR/MWh",
         "Wed,_06/11",
         141.78
        ],
        [
         "18 - 19",
         "EUR/MWh",
         "Thu,_06/12",
         130.91
        ],
        [
         "MWh",
         "2785.3",
         "Fri,_06/06",
         1994.8
        ],
        [
         "MWh",
         "2785.3",
         "Sat,_06/07",
         1931.3
        ],
        [
         "MWh",
         "2785.3",
         "Sun,_06/08",
         2389.1
        ],
        [
         "MWh",
         "2785.3",
         "Mon,_06/09",
         2651.3
        ],
        [
         "MWh",
         "2785.3",
         "Tue,_06/10",
         2332.9
        ],
        [
         "MWh",
         "2785.3",
         "Wed,_06/11",
         3108.0
        ],
        [
         "19 - 20",
         "EUR/MWh",
         "Fri,_06/06",
         146.92
        ],
        [
         "19 - 20",
         "EUR/MWh",
         "Sat,_06/07",
         196.03
        ],
        [
         "19 - 20",
         "EUR/MWh",
         "Sun,_06/08",
         151.36
        ],
        [
         "19 - 20",
         "EUR/MWh",
         "Mon,_06/09",
         160.22
        ],
        [
         "19 - 20",
         "EUR/MWh",
         "Tue,_06/10",
         201.98
        ],
        [
         "19 - 20",
         "EUR/MWh",
         "Wed,_06/11",
         150.59
        ],
        [
         "19 - 20",
         "EUR/MWh",
         "Thu,_06/12",
         189.44
        ],
        [
         "MWh",
         "2485.6",
         "Fri,_06/06",
         2745.8
        ],
        [
         "MWh",
         "2485.6",
         "Sat,_06/07",
         2103.6
        ],
        [
         "MWh",
         "2485.6",
         "Sun,_06/08",
         2660.1
        ],
        [
         "MWh",
         "2485.6",
         "Mon,_06/09",
         2775.0
        ],
        [
         "MWh",
         "2485.6",
         "Tue,_06/10",
         2668.5
        ],
        [
         "MWh",
         "2485.6",
         "Wed,_06/11",
         3727.5
        ],
        [
         "20 - 21",
         "EUR/MWh",
         "Fri,_06/06",
         190.19
        ],
        [
         "20 - 21",
         "EUR/MWh",
         "Sat,_06/07",
         225.36
        ],
        [
         "20 - 21",
         "EUR/MWh",
         "Sun,_06/08",
         177.62
        ],
        [
         "20 - 21",
         "EUR/MWh",
         "Mon,_06/09",
         226.02
        ],
        [
         "20 - 21",
         "EUR/MWh",
         "Tue,_06/10",
         233.45
        ],
        [
         "20 - 21",
         "EUR/MWh",
         "Wed,_06/11",
         219.16
        ],
        [
         "20 - 21",
         "EUR/MWh",
         "Thu,_06/12",
         220.26
        ],
        [
         "MWh",
         "2535",
         "Fri,_06/06",
         2907.7
        ],
        [
         "MWh",
         "2535",
         "Sat,_06/07",
         2086.4
        ],
        [
         "MWh",
         "2535",
         "Sun,_06/08",
         2788.0
        ],
        [
         "MWh",
         "2535",
         "Mon,_06/09",
         2763.3
        ],
        [
         "MWh",
         "2535",
         "Tue,_06/10",
         2725.4
        ],
        [
         "MWh",
         "2535",
         "Wed,_06/11",
         3606.4
        ],
        [
         "21 - 22",
         "EUR/MWh",
         "Fri,_06/06",
         136.97
        ],
        [
         "21 - 22",
         "EUR/MWh",
         "Sat,_06/07",
         163.26
        ],
        [
         "21 - 22",
         "EUR/MWh",
         "Sun,_06/08",
         159.02
        ],
        [
         "21 - 22",
         "EUR/MWh",
         "Mon,_06/09",
         163.47
        ],
        [
         "21 - 22",
         "EUR/MWh",
         "Tue,_06/10",
         139.09
        ],
        [
         "21 - 22",
         "EUR/MWh",
         "Wed,_06/11",
         185.7
        ],
        [
         "21 - 22",
         "EUR/MWh",
         "Thu,_06/12",
         152.25
        ],
        [
         "MWh",
         "2559.2",
         "Fri,_06/06",
         2862.9
        ],
        [
         "MWh",
         "2559.2",
         "Sat,_06/07",
         2219.1
        ],
        [
         "MWh",
         "2559.2",
         "Sun,_06/08",
         2858.4
        ],
        [
         "MWh",
         "2559.2",
         "Mon,_06/09",
         2671.0
        ],
        [
         "MWh",
         "2559.2",
         "Tue,_06/10",
         2979.1
        ],
        [
         "MWh",
         "2559.2",
         "Wed,_06/11",
         2872.9
        ],
        [
         "22 - 23",
         "EUR/MWh",
         "Fri,_06/06",
         125.37
        ],
        [
         "22 - 23",
         "EUR/MWh",
         "Sat,_06/07",
         123.32
        ],
        [
         "22 - 23",
         "EUR/MWh",
         "Sun,_06/08",
         124.71
        ],
        [
         "22 - 23",
         "EUR/MWh",
         "Mon,_06/09",
         124.85
        ],
        [
         "22 - 23",
         "EUR/MWh",
         "Tue,_06/10",
         102.18
        ],
        [
         "22 - 23",
         "EUR/MWh",
         "Wed,_06/11",
         123.18
        ],
        [
         "22 - 23",
         "EUR/MWh",
         "Thu,_06/12",
         127.74
        ],
        [
         "MWh",
         "2542",
         "Fri,_06/06",
         2139.3
        ],
        [
         "MWh",
         "2542",
         "Sat,_06/07",
         2322.1
        ],
        [
         "MWh",
         "2542",
         "Sun,_06/08",
         2312.8
        ],
        [
         "MWh",
         "2542",
         "Mon,_06/09",
         2470.3
        ],
        [
         "MWh",
         "2542",
         "Tue,_06/10",
         2612.1
        ],
        [
         "MWh",
         "2542",
         "Wed,_06/11",
         2679.5
        ],
        [
         "23 - 24",
         "EUR/MWh",
         "Fri,_06/06",
         109.17
        ],
        [
         "23 - 24",
         "EUR/MWh",
         "Sat,_06/07",
         118.45
        ],
        [
         "23 - 24",
         "EUR/MWh",
         "Sun,_06/08",
         100.94
        ],
        [
         "23 - 24",
         "EUR/MWh",
         "Mon,_06/09",
         106.28
        ],
        [
         "23 - 24",
         "EUR/MWh",
         "Tue,_06/10",
         97.75
        ],
        [
         "23 - 24",
         "EUR/MWh",
         "Wed,_06/11",
         103.67
        ],
        [
         "23 - 24",
         "EUR/MWh",
         "Thu,_06/12",
         107.26
        ],
        [
         "MWh",
         "2520.4",
         "Fri,_06/06",
         2235.2
        ],
        [
         "MWh",
         "2520.4",
         "Sat,_06/07",
         2985.5
        ],
        [
         "MWh",
         "2520.4",
         "Sun,_06/08",
         2217.3
        ],
        [
         "MWh",
         "2520.4",
         "Mon,_06/09",
         2413.2
        ],
        [
         "MWh",
         "2520.4",
         "Tue,_06/10",
         3198.5
        ],
        [
         "MWh",
         "2520.4",
         "Wed,_06/11",
         3003.0
        ]
       ],
       "datasetInfos": [],
       "dbfsResultPath": null,
       "isJsonSchema": true,
       "metadata": {},
       "overflow": false,
       "plotOptions": {
        "customPlotOptions": {},
        "displayType": "table",
        "pivotAggregation": null,
        "pivotColumns": null,
        "xColumns": null,
        "yColumns": null
       },
       "removedWidgets": [],
       "schema": [
        {
         "metadata": "{}",
         "name": "hour",
         "type": "\"string\""
        },
        {
         "metadata": "{}",
         "name": "metric",
         "type": "\"string\""
        },
        {
         "metadata": "{}",
         "name": "date",
         "type": "\"string\""
        },
        {
         "metadata": "{}",
         "name": "value",
         "type": "\"float\""
        }
       ],
       "type": "table"
      }
     },
     "output_type": "display_data"
    }
   ],
   "source": [
    "from pyspark.sql import SparkSession\n",
    "from pyspark.sql.types import StructType, StructField, StringType, FloatType\n",
    "from pyspark.sql.functions import col\n",
    "from bs4 import BeautifulSoup\n",
    "from selenium import webdriver\n",
    "from selenium.webdriver.chrome.service import Service\n",
    "from webdriver_manager.chrome import ChromeDriverManager\n",
    "from selenium.webdriver.chrome.options import Options\n",
    " \n",
    "# Initialize Spark session\n",
    "spark = SparkSession.builder.appName(\"WebScrapeTablesSelenium\").getOrCreate()\n",
    " \n",
    "# Function to clean numeric values\n",
    "def clean_numeric(value):\n",
    "    try:\n",
    "        # Remove spaces and convert to float\n",
    "        cleaned = value.replace(\" \", \"\").replace(\",\", \".\")\n",
    "        return float(cleaned) if cleaned else 0.0\n",
    "    except ValueError:\n",
    "        return 0.0\n",
    " \n",
    "# Function to scrape and parse table data using Selenium\n",
    "def scrape_and_parse_table(url, table_index, table_name):\n",
    "    # Set up Selenium with headless Chrome\n",
    "    chrome_options = Options()\n",
    "    chrome_options.add_argument(\"--headless\")\n",
    "    chrome_options.add_argument(\"--no-sandbox\")\n",
    "    chrome_options.add_argument(\"--disable-dev-shm-usage\")\n",
    "    # Explicitly set Chrome binary path\n",
    "    chrome_options.binary_location = \"/usr/bin/google-chrome\"\n",
    "   \n",
    "    # Initialize Chrome driver\n",
    "    driver = webdriver.Chrome(service=Service(ChromeDriverManager().install()), options=chrome_options)\n",
    "   \n",
    "    try:\n",
    "        # Load webpage\n",
    "        driver.get(url)\n",
    "        # Wait for JavaScript to render\n",
    "        driver.implicitly_wait(10)\n",
    "       \n",
    "        # Get page source and parse with BeautifulSoup\n",
    "        soup = BeautifulSoup(driver.page_source, \"html.parser\")\n",
    "        tables = soup.find_all(\"table\")\n",
    "       \n",
    "        # Debug: Print number of tables found\n",
    "        print(f\"Found {len(tables)} tables for {table_name}\")\n",
    "       \n",
    "        if table_index >= len(tables):\n",
    "            print(f\"Table index {table_index} not found. Found {len(tables)} tables.\")\n",
    "            return None\n",
    "       \n",
    "        table = tables[table_index]\n",
    "        rows = table.find_all(\"tr\")\n",
    "        headers = [th.get_text().strip().replace(\" \", \"_\") for th in rows[0].find_all(\"th\")][2:]  # Skip first two columns\n",
    "       \n",
    "        data = []\n",
    "        if table_name == \"prices_volumes\":\n",
    "            for row in rows[1:]:\n",
    "                cells = [td.get_text().strip() for td in row.find_all(\"td\")]\n",
    "                metric = cells[0]\n",
    "                values = cells[2:]  # Skip first two columns\n",
    "                for date, value in zip(headers, values):\n",
    "                    data.append((metric, date, clean_numeric(value)))\n",
    "           \n",
    "            schema = StructType([\n",
    "                StructField(\"metric\", StringType(), False),\n",
    "                StructField(\"date\", StringType(), False),\n",
    "                StructField(\"value\", FloatType(), False)\n",
    "            ])\n",
    "            df = spark.createDataFrame(data, schema)\n",
    "            return df\n",
    "       \n",
    "        elif table_name == \"block_products\":\n",
    "            for row in rows[1:]:\n",
    "                cells = [td.get_text().strip() for td in row.find_all(\"td\")]\n",
    "                product = cells[0]\n",
    "                values = cells[2:]  # Skip first two columns\n",
    "                for date, value in zip(headers, values):\n",
    "                    data.append((product, date, clean_numeric(value)))\n",
    "           \n",
    "            schema = StructType([\n",
    "                StructField(\"product\", StringType(), False),\n",
    "                StructField(\"date\", StringType(), False),\n",
    "                StructField(\"price\", FloatType(), False)\n",
    "            ])\n",
    "            df = spark.createDataFrame(data, schema)\n",
    "            return df\n",
    "       \n",
    "        elif table_name == \"hourly_products\":\n",
    "            current_hour = \"\"\n",
    "            for row in rows[1:]:\n",
    "                cells = [td.get_text().strip() for td in row.find_all(\"td\")]\n",
    "                if cells[0]:  # New hour\n",
    "                    current_hour = cells[0]\n",
    "                metric = cells[1]\n",
    "                values = cells[2:]  # Skip first two columns\n",
    "                for date, value in zip(headers, values):\n",
    "                    data.append((current_hour, metric, date, clean_numeric(value)))\n",
    "           \n",
    "            schema = StructType([\n",
    "                StructField(\"hour\", StringType(), False),\n",
    "                StructField(\"metric\", StringType(), False),\n",
    "                StructField(\"date\", StringType(), False),\n",
    "                StructField(\"value\", FloatType(), False)\n",
    "            ])\n",
    "            df = spark.createDataFrame(data, schema)\n",
    "            return df\n",
    "   \n",
    "    finally:\n",
    "        driver.quit()\n",
    " \n",
    "# URL to scrape\n",
    "url = \"https://ibex.bg/markets/dam/day-ahead-prices-and-volumes-v2-0-2/\"\n",
    " \n",
    "# Process and save each table\n",
    "prices_volumes_df = scrape_and_parse_table(url, 0, \"prices_volumes\")\n",
    "if prices_volumes_df:\n",
    "    prices_volumes_df.write.mode(\"overwrite\").format(\"delta\").saveAsTable(\"prices_volumes_table\")\n",
    "    display(prices_volumes_df)\n",
    " \n",
    "block_products_df = scrape_and_parse_table(url, 1, \"block_products\")\n",
    "if block_products_df:\n",
    "    block_products_df.write.mode(\"overwrite\").format(\"delta\").saveAsTable(\"block_products_table\")\n",
    "    display(block_products_df)\n",
    " \n",
    "hourly_products_df = scrape_and_parse_table(url, 2, \"hourly_products\")\n",
    "if hourly_products_df:\n",
    "    hourly_products_df.write.mode(\"overwrite\").format(\"delta\").saveAsTable(\"hourly_products_table\")\n",
    "    display(hourly_products_df)"
   ]
  }
 ],
 "metadata": {
  "application/vnd.databricks.v1+notebook": {
   "computePreferences": null,
   "dashboards": [],
   "environmentMetadata": {
    "base_environment": "",
    "environment_version": "1"
   },
   "inputWidgetPreferences": null,
   "language": "python",
   "notebookMetadata": {
    "mostRecentlyExecutedCommandWithImplicitDF": {
     "commandId": 1065676929326609,
     "dataframes": [
      "_sqldf"
     ]
    },
    "pythonIndentUnit": 4
   },
   "notebookName": "dileep-assessment-2",
   "widgets": {}
  }
 },
 "nbformat": 4,
 "nbformat_minor": 0
}